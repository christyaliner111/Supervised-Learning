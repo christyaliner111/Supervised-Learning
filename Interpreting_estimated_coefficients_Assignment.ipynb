{
  "nbformat": 4,
  "nbformat_minor": 0,
  "metadata": {
    "colab": {
      "name": "Interpreting estimated coefficients Assignment.ipynb",
      "provenance": []
    },
    "kernelspec": {
      "name": "python3",
      "display_name": "Python 3"
    }
  },
  "cells": [
    {
      "cell_type": "markdown",
      "metadata": {
        "id": "C1jciroHxlfu",
        "colab_type": "text"
      },
      "source": [
        "# 1. Interpretation and significance"
      ]
    },
    {
      "cell_type": "markdown",
      "metadata": {
        "id": "XbvAjqJVxo4F",
        "colab_type": "text"
      },
      "source": [
        "The model tells us that the bias term is 873 USD. As a families annual income increases, their expenditure also increases at a rate of .0012 * (annual income) and .00002 (annual income squared). However, if the family also has children, their recreation expenditure decreases by about 223 USD flat. \n",
        "\n",
        "The annual income sqaured will have more impact as the income increases--it will increase exponentially.\n",
        "\n",
        "Since we do not know what the estimated pvalues are, we are not certain if the estimated coefficients are statistically significant, or if just noise (and shoule be treated as zero)."
      ]
    },
    {
      "cell_type": "markdown",
      "metadata": {
        "id": "B-VbqGGVyT2Q",
        "colab_type": "text"
      },
      "source": [
        "# 2. Weather Model"
      ]
    },
    {
      "cell_type": "markdown",
      "metadata": {
        "id": "VFkzZreDy4ZJ",
        "colab_type": "text"
      },
      "source": [
        "## Imports and DataFrame Creation"
      ]
    },
    {
      "cell_type": "code",
      "metadata": {
        "id": "ALAfhKT8xogV",
        "colab_type": "code",
        "colab": {}
      },
      "source": [
        "#Arrays and Dataframe\n",
        "import numpy as np\n",
        "import pandas as pd\n",
        "\n",
        "#SQL\n",
        "from sqlalchemy import create_engine\n",
        "\n",
        "#Visualization\n",
        "from matplotlib import pyplot as plt\n",
        "import seaborn as sns\n",
        "sns.set()\n",
        "\n",
        "#Data Exploration\n",
        "from scipy import stats\n",
        "\n",
        "#Data Modeling\n",
        "from sklearn import linear_model\n",
        "from sklearn.svm import LinearSVC\n",
        "import statsmodels.api as sm\n",
        "from sklearn.model_selection import train_test_split\n",
        "from statsmodels.stats.outliers_influence import variance_inflation_factor \n",
        "from statsmodels.tools.tools import add_constant\n",
        "\n",
        "from statsmodels.tsa.stattools import acf\n",
        "\n",
        "from scipy.stats import jarque_bera\n",
        "from scipy.stats import normaltest"
      ],
      "execution_count": 0,
      "outputs": []
    },
    {
      "cell_type": "code",
      "metadata": {
        "id": "Lyqz_ecmxjD4",
        "colab_type": "code",
        "colab": {
          "base_uri": "https://localhost:8080/",
          "height": 72
        },
        "outputId": "fab98794-4054-4257-ff2c-1e0b0e1e23c0"
      },
      "source": [
        "postgres_user = 'dsbc_student'\n",
        "postgres_pw = '7*.8G9QH21'\n",
        "postgres_host = '142.93.121.174'\n",
        "postgres_port = '5432'\n",
        "postgres_db = 'weatherinszeged'\n",
        "\n",
        "engine = create_engine('postgresql://{}:{}@{}:{}/{}'.format(\n",
        "    postgres_user, postgres_pw, postgres_host, postgres_port, postgres_db))\n",
        "\n",
        "df = pd.read_sql_query('select * from weatherinszeged', con=engine)\n",
        "\n",
        "# no need for an open connection, as we're only doing a single query\n",
        "engine.dispose()"
      ],
      "execution_count": 2,
      "outputs": [
        {
          "output_type": "stream",
          "text": [
            "/usr/local/lib/python3.6/dist-packages/psycopg2/__init__.py:144: UserWarning: The psycopg2 wheel package will be renamed from release 2.8; in order to keep installing from binary please use \"pip install psycopg2-binary\" instead. For details see: <http://initd.org/psycopg/docs/install.html#binary-install-from-pypi>.\n",
            "  \"\"\")\n"
          ],
          "name": "stderr"
        }
      ]
    },
    {
      "cell_type": "markdown",
      "metadata": {
        "id": "A91ME4KRy8yR",
        "colab_type": "text"
      },
      "source": [
        "## Linear Regression Model"
      ]
    },
    {
      "cell_type": "code",
      "metadata": {
        "id": "tTjiADtqy8GJ",
        "colab_type": "code",
        "colab": {}
      },
      "source": [
        "#create new variable\n",
        "df['temp_diff'] = df.apparenttemperature - df.temperature\n",
        "y = df['temp_diff']\n",
        "X = df[['humidity', 'windspeed']]"
      ],
      "execution_count": 0,
      "outputs": []
    },
    {
      "cell_type": "code",
      "metadata": {
        "id": "1zv9FBGd0ghb",
        "colab_type": "code",
        "colab": {}
      },
      "source": [
        "#split the data\n",
        "X_train, X_test, y_train, y_test = train_test_split(X, y)"
      ],
      "execution_count": 0,
      "outputs": []
    },
    {
      "cell_type": "code",
      "metadata": {
        "id": "JC7TZYaizAko",
        "colab_type": "code",
        "colab": {
          "base_uri": "https://localhost:8080/",
          "height": 516
        },
        "outputId": "55cd1fa6-26b3-4a3c-a2e9-bd64c5b1845a"
      },
      "source": [
        "#Linear Regression using stats model\n",
        "# We need to manually add a constant\n",
        "# in statsmodels' sm\n",
        "X = sm.add_constant(X)\n",
        "\n",
        "results = sm.OLS(y, X).fit()\n",
        "\n",
        "results.summary()"
      ],
      "execution_count": 18,
      "outputs": [
        {
          "output_type": "stream",
          "text": [
            "/usr/local/lib/python3.6/dist-packages/numpy/core/fromnumeric.py:2495: FutureWarning: Method .ptp is deprecated and will be removed in a future version. Use numpy.ptp instead.\n",
            "  return ptp(axis=axis, out=out, **kwargs)\n"
          ],
          "name": "stderr"
        },
        {
          "output_type": "execute_result",
          "data": {
            "text/html": [
              "<table class=\"simpletable\">\n",
              "<caption>OLS Regression Results</caption>\n",
              "<tr>\n",
              "  <th>Dep. Variable:</th>        <td>temp_diff</td>    <th>  R-squared:         </th>  <td>   0.288</td>  \n",
              "</tr>\n",
              "<tr>\n",
              "  <th>Model:</th>                   <td>OLS</td>       <th>  Adj. R-squared:    </th>  <td>   0.288</td>  \n",
              "</tr>\n",
              "<tr>\n",
              "  <th>Method:</th>             <td>Least Squares</td>  <th>  F-statistic:       </th>  <td>1.949e+04</td> \n",
              "</tr>\n",
              "<tr>\n",
              "  <th>Date:</th>             <td>Tue, 05 Nov 2019</td> <th>  Prob (F-statistic):</th>   <td>  0.00</td>   \n",
              "</tr>\n",
              "<tr>\n",
              "  <th>Time:</th>                 <td>13:56:10</td>     <th>  Log-Likelihood:    </th> <td>-1.7046e+05</td>\n",
              "</tr>\n",
              "<tr>\n",
              "  <th>No. Observations:</th>      <td> 96453</td>      <th>  AIC:               </th>  <td>3.409e+05</td> \n",
              "</tr>\n",
              "<tr>\n",
              "  <th>Df Residuals:</th>          <td> 96450</td>      <th>  BIC:               </th>  <td>3.409e+05</td> \n",
              "</tr>\n",
              "<tr>\n",
              "  <th>Df Model:</th>              <td>     2</td>      <th>                     </th>      <td> </td>     \n",
              "</tr>\n",
              "<tr>\n",
              "  <th>Covariance Type:</th>      <td>nonrobust</td>    <th>                     </th>      <td> </td>     \n",
              "</tr>\n",
              "</table>\n",
              "<table class=\"simpletable\">\n",
              "<tr>\n",
              "      <td></td>         <th>coef</th>     <th>std err</th>      <th>t</th>      <th>P>|t|</th>  <th>[0.025</th>    <th>0.975]</th>  \n",
              "</tr>\n",
              "<tr>\n",
              "  <th>const</th>     <td>    2.4381</td> <td>    0.021</td> <td>  115.948</td> <td> 0.000</td> <td>    2.397</td> <td>    2.479</td>\n",
              "</tr>\n",
              "<tr>\n",
              "  <th>humidity</th>  <td>   -3.0292</td> <td>    0.024</td> <td> -126.479</td> <td> 0.000</td> <td>   -3.076</td> <td>   -2.982</td>\n",
              "</tr>\n",
              "<tr>\n",
              "  <th>windspeed</th> <td>   -0.1193</td> <td>    0.001</td> <td> -176.164</td> <td> 0.000</td> <td>   -0.121</td> <td>   -0.118</td>\n",
              "</tr>\n",
              "</table>\n",
              "<table class=\"simpletable\">\n",
              "<tr>\n",
              "  <th>Omnibus:</th>       <td>3935.747</td> <th>  Durbin-Watson:     </th> <td>   0.267</td>\n",
              "</tr>\n",
              "<tr>\n",
              "  <th>Prob(Omnibus):</th>  <td> 0.000</td>  <th>  Jarque-Bera (JB):  </th> <td>4613.311</td>\n",
              "</tr>\n",
              "<tr>\n",
              "  <th>Skew:</th>           <td>-0.478</td>  <th>  Prob(JB):          </th> <td>    0.00</td>\n",
              "</tr>\n",
              "<tr>\n",
              "  <th>Kurtosis:</th>       <td> 3.484</td>  <th>  Cond. No.          </th> <td>    88.1</td>\n",
              "</tr>\n",
              "</table><br/><br/>Warnings:<br/>[1] Standard Errors assume that the covariance matrix of the errors is correctly specified."
            ],
            "text/plain": [
              "<class 'statsmodels.iolib.summary.Summary'>\n",
              "\"\"\"\n",
              "                            OLS Regression Results                            \n",
              "==============================================================================\n",
              "Dep. Variable:              temp_diff   R-squared:                       0.288\n",
              "Model:                            OLS   Adj. R-squared:                  0.288\n",
              "Method:                 Least Squares   F-statistic:                 1.949e+04\n",
              "Date:                Tue, 05 Nov 2019   Prob (F-statistic):               0.00\n",
              "Time:                        13:56:10   Log-Likelihood:            -1.7046e+05\n",
              "No. Observations:               96453   AIC:                         3.409e+05\n",
              "Df Residuals:                   96450   BIC:                         3.409e+05\n",
              "Df Model:                           2                                         \n",
              "Covariance Type:            nonrobust                                         \n",
              "==============================================================================\n",
              "                 coef    std err          t      P>|t|      [0.025      0.975]\n",
              "------------------------------------------------------------------------------\n",
              "const          2.4381      0.021    115.948      0.000       2.397       2.479\n",
              "humidity      -3.0292      0.024   -126.479      0.000      -3.076      -2.982\n",
              "windspeed     -0.1193      0.001   -176.164      0.000      -0.121      -0.118\n",
              "==============================================================================\n",
              "Omnibus:                     3935.747   Durbin-Watson:                   0.267\n",
              "Prob(Omnibus):                  0.000   Jarque-Bera (JB):             4613.311\n",
              "Skew:                          -0.478   Prob(JB):                         0.00\n",
              "Kurtosis:                       3.484   Cond. No.                         88.1\n",
              "==============================================================================\n",
              "\n",
              "Warnings:\n",
              "[1] Standard Errors assume that the covariance matrix of the errors is correctly specified.\n",
              "\"\"\""
            ]
          },
          "metadata": {
            "tags": []
          },
          "execution_count": 18
        }
      ]
    },
    {
      "cell_type": "markdown",
      "metadata": {
        "id": "HSKo3XG63fba",
        "colab_type": "text"
      },
      "source": [
        "The low pvalue for all three explanatory variables indicate that they are statistically significant. \n",
        "\n",
        "As the humidity and windspeed increase, the difference in temperate decreases (apparent - actual). \n",
        "\n",
        "Humidity had a much stronger negative correlation with temperature than with temperature difference. "
      ]
    },
    {
      "cell_type": "code",
      "metadata": {
        "id": "2CA26Oxjzb1J",
        "colab_type": "code",
        "colab": {}
      },
      "source": [
        "#create new variable\n",
        "df['humidity_windspeed'] = df.humidity * df.windspeed\n",
        "y = df['temp_diff']\n",
        "X = df[['humidity', 'windspeed', 'humidity_windspeed']]"
      ],
      "execution_count": 0,
      "outputs": []
    },
    {
      "cell_type": "code",
      "metadata": {
        "id": "coDAoZrk45wK",
        "colab_type": "code",
        "colab": {
          "base_uri": "https://localhost:8080/",
          "height": 537
        },
        "outputId": "244d8720-1853-4560-9280-91e6b88f551a"
      },
      "source": [
        "X = sm.add_constant(X)\n",
        "\n",
        "results = sm.OLS(y, X).fit()\n",
        "\n",
        "results.summary()"
      ],
      "execution_count": 24,
      "outputs": [
        {
          "output_type": "stream",
          "text": [
            "/usr/local/lib/python3.6/dist-packages/numpy/core/fromnumeric.py:2495: FutureWarning: Method .ptp is deprecated and will be removed in a future version. Use numpy.ptp instead.\n",
            "  return ptp(axis=axis, out=out, **kwargs)\n"
          ],
          "name": "stderr"
        },
        {
          "output_type": "execute_result",
          "data": {
            "text/html": [
              "<table class=\"simpletable\">\n",
              "<caption>OLS Regression Results</caption>\n",
              "<tr>\n",
              "  <th>Dep. Variable:</th>        <td>temp_diff</td>    <th>  R-squared:         </th>  <td>   0.341</td>  \n",
              "</tr>\n",
              "<tr>\n",
              "  <th>Model:</th>                   <td>OLS</td>       <th>  Adj. R-squared:    </th>  <td>   0.341</td>  \n",
              "</tr>\n",
              "<tr>\n",
              "  <th>Method:</th>             <td>Least Squares</td>  <th>  F-statistic:       </th>  <td>1.666e+04</td> \n",
              "</tr>\n",
              "<tr>\n",
              "  <th>Date:</th>             <td>Tue, 05 Nov 2019</td> <th>  Prob (F-statistic):</th>   <td>  0.00</td>   \n",
              "</tr>\n",
              "<tr>\n",
              "  <th>Time:</th>                 <td>14:19:23</td>     <th>  Log-Likelihood:    </th> <td>-1.6669e+05</td>\n",
              "</tr>\n",
              "<tr>\n",
              "  <th>No. Observations:</th>      <td> 96453</td>      <th>  AIC:               </th>  <td>3.334e+05</td> \n",
              "</tr>\n",
              "<tr>\n",
              "  <th>Df Residuals:</th>          <td> 96449</td>      <th>  BIC:               </th>  <td>3.334e+05</td> \n",
              "</tr>\n",
              "<tr>\n",
              "  <th>Df Model:</th>              <td>     3</td>      <th>                     </th>      <td> </td>     \n",
              "</tr>\n",
              "<tr>\n",
              "  <th>Covariance Type:</th>      <td>nonrobust</td>    <th>                     </th>      <td> </td>     \n",
              "</tr>\n",
              "</table>\n",
              "<table class=\"simpletable\">\n",
              "<tr>\n",
              "           <td></td>             <th>coef</th>     <th>std err</th>      <th>t</th>      <th>P>|t|</th>  <th>[0.025</th>    <th>0.975]</th>  \n",
              "</tr>\n",
              "<tr>\n",
              "  <th>const</th>              <td>    0.0839</td> <td>    0.033</td> <td>    2.511</td> <td> 0.012</td> <td>    0.018</td> <td>    0.149</td>\n",
              "</tr>\n",
              "<tr>\n",
              "  <th>humidity</th>           <td>    0.1775</td> <td>    0.043</td> <td>    4.133</td> <td> 0.000</td> <td>    0.093</td> <td>    0.262</td>\n",
              "</tr>\n",
              "<tr>\n",
              "  <th>windspeed</th>          <td>    0.0905</td> <td>    0.002</td> <td>   36.797</td> <td> 0.000</td> <td>    0.086</td> <td>    0.095</td>\n",
              "</tr>\n",
              "<tr>\n",
              "  <th>humidity_windspeed</th> <td>   -0.2971</td> <td>    0.003</td> <td>  -88.470</td> <td> 0.000</td> <td>   -0.304</td> <td>   -0.291</td>\n",
              "</tr>\n",
              "</table>\n",
              "<table class=\"simpletable\">\n",
              "<tr>\n",
              "  <th>Omnibus:</th>       <td>4849.937</td> <th>  Durbin-Watson:     </th> <td>   0.265</td>\n",
              "</tr>\n",
              "<tr>\n",
              "  <th>Prob(Omnibus):</th>  <td> 0.000</td>  <th>  Jarque-Bera (JB):  </th> <td>9295.404</td>\n",
              "</tr>\n",
              "<tr>\n",
              "  <th>Skew:</th>           <td>-0.378</td>  <th>  Prob(JB):          </th> <td>    0.00</td>\n",
              "</tr>\n",
              "<tr>\n",
              "  <th>Kurtosis:</th>       <td> 4.320</td>  <th>  Cond. No.          </th> <td>    193.</td>\n",
              "</tr>\n",
              "</table><br/><br/>Warnings:<br/>[1] Standard Errors assume that the covariance matrix of the errors is correctly specified."
            ],
            "text/plain": [
              "<class 'statsmodels.iolib.summary.Summary'>\n",
              "\"\"\"\n",
              "                            OLS Regression Results                            \n",
              "==============================================================================\n",
              "Dep. Variable:              temp_diff   R-squared:                       0.341\n",
              "Model:                            OLS   Adj. R-squared:                  0.341\n",
              "Method:                 Least Squares   F-statistic:                 1.666e+04\n",
              "Date:                Tue, 05 Nov 2019   Prob (F-statistic):               0.00\n",
              "Time:                        14:19:23   Log-Likelihood:            -1.6669e+05\n",
              "No. Observations:               96453   AIC:                         3.334e+05\n",
              "Df Residuals:                   96449   BIC:                         3.334e+05\n",
              "Df Model:                           3                                         \n",
              "Covariance Type:            nonrobust                                         \n",
              "======================================================================================\n",
              "                         coef    std err          t      P>|t|      [0.025      0.975]\n",
              "--------------------------------------------------------------------------------------\n",
              "const                  0.0839      0.033      2.511      0.012       0.018       0.149\n",
              "humidity               0.1775      0.043      4.133      0.000       0.093       0.262\n",
              "windspeed              0.0905      0.002     36.797      0.000       0.086       0.095\n",
              "humidity_windspeed    -0.2971      0.003    -88.470      0.000      -0.304      -0.291\n",
              "==============================================================================\n",
              "Omnibus:                     4849.937   Durbin-Watson:                   0.265\n",
              "Prob(Omnibus):                  0.000   Jarque-Bera (JB):             9295.404\n",
              "Skew:                          -0.378   Prob(JB):                         0.00\n",
              "Kurtosis:                       4.320   Cond. No.                         193.\n",
              "==============================================================================\n",
              "\n",
              "Warnings:\n",
              "[1] Standard Errors assume that the covariance matrix of the errors is correctly specified.\n",
              "\"\"\""
            ]
          },
          "metadata": {
            "tags": []
          },
          "execution_count": 24
        }
      ]
    },
    {
      "cell_type": "markdown",
      "metadata": {
        "id": "RI-LgCep5Lhw",
        "colab_type": "text"
      },
      "source": [
        "The coefficients are statistically significant since pvalue is 0. The coefficients tell us that as humudity and windspeed increase, humidty_windspeed do as well. \n",
        "\n",
        "We can see that the humidity and windspeed interaction has a negative coefficient but humidity and windspeed by themselves have a positive coefficient. \n",
        "\n",
        "This is because the windspeed mitigates the effects of humidity on the target. "
      ]
    },
    {
      "cell_type": "markdown",
      "metadata": {
        "id": "e4OAgb0g8jZ-",
        "colab_type": "text"
      },
      "source": [
        "# 3. House prices model"
      ]
    },
    {
      "cell_type": "markdown",
      "metadata": {
        "id": "nQA1s8_kEgcY",
        "colab_type": "text"
      },
      "source": [
        "## Recreate dataframe"
      ]
    },
    {
      "cell_type": "code",
      "metadata": {
        "id": "hqD1-yg15Bln",
        "colab_type": "code",
        "colab": {}
      },
      "source": [
        "#Make SQL Queary\n",
        "postgres_user = 'dsbc_student'\n",
        "postgres_pw = '7*.8G9QH21'\n",
        "postgres_host = '142.93.121.174'\n",
        "postgres_port = '5432'\n",
        "postgres_db = 'houseprices'\n",
        "\n",
        "engine = create_engine('postgresql://{}:{}@{}:{}/{}'.format(\n",
        "    postgres_user, postgres_pw, postgres_host, postgres_port, postgres_db))\n",
        "\n",
        "df = pd.read_sql_query('select * from houseprices',con=engine)\n",
        "\n",
        "# no need for an open connection, as we're only doing a single query\n",
        "engine.dispose()"
      ],
      "execution_count": 0,
      "outputs": []
    },
    {
      "cell_type": "code",
      "metadata": {
        "id": "7UZDURyMBu5u",
        "colab_type": "code",
        "colab": {}
      },
      "source": [
        "#Drop columns that have a large number of null values (over 30%)\n",
        "df1 = df.drop(columns = ['alley', 'fireplacequ', 'poolqc', 'fence', 'miscfeature'])"
      ],
      "execution_count": 0,
      "outputs": []
    },
    {
      "cell_type": "code",
      "metadata": {
        "id": "eexMxOByBv_L",
        "colab_type": "code",
        "colab": {}
      },
      "source": [
        "#make a copy of df1\n",
        "df2 = df1.copy()\n",
        "\n",
        "#interpolate based on the year\n",
        "year_list = list(df1['yearbuilt'].unique())\n",
        "for year in year_list:\n",
        "    df2.loc[df1['yearbuilt']==year] = df2.loc[df1['yearbuilt']==year].interpolate()\n",
        "\n",
        "# drop missing values that are remaining\n",
        "df2.dropna(inplace = True)"
      ],
      "execution_count": 0,
      "outputs": []
    },
    {
      "cell_type": "code",
      "metadata": {
        "id": "3uMB6mhRByPT",
        "colab_type": "code",
        "colab": {}
      },
      "source": [
        "#update data types\n",
        "non_numeric = df1.select_dtypes(include = 'object')\n",
        "numeric = df1.select_dtypes(include = ['float64', 'int64'])"
      ],
      "execution_count": 0,
      "outputs": []
    },
    {
      "cell_type": "code",
      "metadata": {
        "id": "6ChdiPTTBzqE",
        "colab_type": "code",
        "colab": {}
      },
      "source": [
        "#pick top 5 numeric:\n",
        "df3 = df2.loc[:, ['overallqual', 'grlivarea', 'garagecars', 'garagearea', 'totalbsmtsf', 'saleprice']]"
      ],
      "execution_count": 0,
      "outputs": []
    },
    {
      "cell_type": "code",
      "metadata": {
        "id": "bylxSJ6gB1Xq",
        "colab_type": "code",
        "colab": {}
      },
      "source": [
        "#Choose Central Air and External Quality as the features I'll use for the model\n",
        "df4 = df2.loc[:, ['exterqual', 'centralair']]\n",
        "\n",
        "#One Hot encoding of categorical variables\n",
        "df5 = pd.get_dummies(df4, columns = ['exterqual', 'centralair'])"
      ],
      "execution_count": 0,
      "outputs": []
    },
    {
      "cell_type": "code",
      "metadata": {
        "id": "P1IXrxO2B2Xi",
        "colab_type": "code",
        "colab": {}
      },
      "source": [
        "#Combine Dataframes\n",
        "df3\n",
        "df5\n",
        "model_df = pd.concat([df3, df5], axis = 1)"
      ],
      "execution_count": 0,
      "outputs": []
    },
    {
      "cell_type": "markdown",
      "metadata": {
        "id": "rmGWwAW0EmP-",
        "colab_type": "text"
      },
      "source": [
        "## Create model"
      ]
    },
    {
      "cell_type": "code",
      "metadata": {
        "id": "MyKBw2m3B3z6",
        "colab_type": "code",
        "colab": {}
      },
      "source": [
        "#Separate target variable from rest of data\n",
        "X = model_df.drop(columns = 'saleprice')\n",
        "y = model_df['saleprice']\n",
        "\n",
        "#split train_test\n",
        "X_train, X_test, y_train, y_test = train_test_split(X, y)"
      ],
      "execution_count": 0,
      "outputs": []
    },
    {
      "cell_type": "code",
      "metadata": {
        "id": "zZ5ADBYkB6yx",
        "colab_type": "code",
        "colab": {
          "base_uri": "https://localhost:8080/",
          "height": 737
        },
        "outputId": "534fc138-4dbb-435b-b2a3-f36df26b9e97"
      },
      "source": [
        "X = sm.add_constant(X)\n",
        "\n",
        "results = sm.OLS(y, X).fit()\n",
        "\n",
        "results.summary()"
      ],
      "execution_count": 33,
      "outputs": [
        {
          "output_type": "stream",
          "text": [
            "/usr/local/lib/python3.6/dist-packages/numpy/core/fromnumeric.py:2495: FutureWarning: Method .ptp is deprecated and will be removed in a future version. Use numpy.ptp instead.\n",
            "  return ptp(axis=axis, out=out, **kwargs)\n"
          ],
          "name": "stderr"
        },
        {
          "output_type": "execute_result",
          "data": {
            "text/html": [
              "<table class=\"simpletable\">\n",
              "<caption>OLS Regression Results</caption>\n",
              "<tr>\n",
              "  <th>Dep. Variable:</th>        <td>saleprice</td>    <th>  R-squared:         </th> <td>   0.775</td> \n",
              "</tr>\n",
              "<tr>\n",
              "  <th>Model:</th>                   <td>OLS</td>       <th>  Adj. R-squared:    </th> <td>   0.773</td> \n",
              "</tr>\n",
              "<tr>\n",
              "  <th>Method:</th>             <td>Least Squares</td>  <th>  F-statistic:       </th> <td>   500.0</td> \n",
              "</tr>\n",
              "<tr>\n",
              "  <th>Date:</th>             <td>Tue, 05 Nov 2019</td> <th>  Prob (F-statistic):</th>  <td>  0.00</td>  \n",
              "</tr>\n",
              "<tr>\n",
              "  <th>Time:</th>                 <td>14:46:30</td>     <th>  Log-Likelihood:    </th> <td> -15757.</td> \n",
              "</tr>\n",
              "<tr>\n",
              "  <th>No. Observations:</th>      <td>  1318</td>      <th>  AIC:               </th> <td>3.153e+04</td>\n",
              "</tr>\n",
              "<tr>\n",
              "  <th>Df Residuals:</th>          <td>  1308</td>      <th>  BIC:               </th> <td>3.159e+04</td>\n",
              "</tr>\n",
              "<tr>\n",
              "  <th>Df Model:</th>              <td>     9</td>      <th>                     </th>     <td> </td>    \n",
              "</tr>\n",
              "<tr>\n",
              "  <th>Covariance Type:</th>      <td>nonrobust</td>    <th>                     </th>     <td> </td>    \n",
              "</tr>\n",
              "</table>\n",
              "<table class=\"simpletable\">\n",
              "<tr>\n",
              "        <td></td>          <th>coef</th>     <th>std err</th>      <th>t</th>      <th>P>|t|</th>  <th>[0.025</th>    <th>0.975]</th>  \n",
              "</tr>\n",
              "<tr>\n",
              "  <th>const</th>        <td>-4.127e+04</td> <td> 4923.196</td> <td>   -8.383</td> <td> 0.000</td> <td>-5.09e+04</td> <td>-3.16e+04</td>\n",
              "</tr>\n",
              "<tr>\n",
              "  <th>overallqual</th>  <td> 1.884e+04</td> <td> 1335.192</td> <td>   14.107</td> <td> 0.000</td> <td> 1.62e+04</td> <td> 2.15e+04</td>\n",
              "</tr>\n",
              "<tr>\n",
              "  <th>grlivarea</th>    <td>   47.6567</td> <td>    2.612</td> <td>   18.249</td> <td> 0.000</td> <td>   42.533</td> <td>   52.780</td>\n",
              "</tr>\n",
              "<tr>\n",
              "  <th>garagecars</th>   <td> 1.645e+04</td> <td> 3147.805</td> <td>    5.227</td> <td> 0.000</td> <td> 1.03e+04</td> <td> 2.26e+04</td>\n",
              "</tr>\n",
              "<tr>\n",
              "  <th>garagearea</th>   <td>   13.4964</td> <td>   10.494</td> <td>    1.286</td> <td> 0.199</td> <td>   -7.091</td> <td>   34.084</td>\n",
              "</tr>\n",
              "<tr>\n",
              "  <th>totalbsmtsf</th>  <td>   26.2237</td> <td>    3.274</td> <td>    8.011</td> <td> 0.000</td> <td>   19.802</td> <td>   32.646</td>\n",
              "</tr>\n",
              "<tr>\n",
              "  <th>exterqual_Ex</th> <td> 3.735e+04</td> <td> 6542.041</td> <td>    5.709</td> <td> 0.000</td> <td> 2.45e+04</td> <td> 5.02e+04</td>\n",
              "</tr>\n",
              "<tr>\n",
              "  <th>exterqual_Fa</th> <td>-3.957e+04</td> <td> 1.15e+04</td> <td>   -3.435</td> <td> 0.001</td> <td>-6.22e+04</td> <td> -1.7e+04</td>\n",
              "</tr>\n",
              "<tr>\n",
              "  <th>exterqual_Gd</th> <td>-1.261e+04</td> <td> 4084.879</td> <td>   -3.086</td> <td> 0.002</td> <td>-2.06e+04</td> <td>-4591.762</td>\n",
              "</tr>\n",
              "<tr>\n",
              "  <th>exterqual_TA</th> <td>-2.645e+04</td> <td> 3568.598</td> <td>   -7.411</td> <td> 0.000</td> <td>-3.34e+04</td> <td>-1.94e+04</td>\n",
              "</tr>\n",
              "<tr>\n",
              "  <th>centralair_N</th> <td>-3.273e+04</td> <td> 3714.024</td> <td>   -8.812</td> <td> 0.000</td> <td>   -4e+04</td> <td>-2.54e+04</td>\n",
              "</tr>\n",
              "<tr>\n",
              "  <th>centralair_Y</th> <td>-8544.2175</td> <td> 3417.795</td> <td>   -2.500</td> <td> 0.013</td> <td>-1.52e+04</td> <td>-1839.257</td>\n",
              "</tr>\n",
              "</table>\n",
              "<table class=\"simpletable\">\n",
              "<tr>\n",
              "  <th>Omnibus:</th>       <td>603.343</td> <th>  Durbin-Watson:     </th> <td>   1.972</td> \n",
              "</tr>\n",
              "<tr>\n",
              "  <th>Prob(Omnibus):</th> <td> 0.000</td>  <th>  Jarque-Bera (JB):  </th> <td>68036.538</td>\n",
              "</tr>\n",
              "<tr>\n",
              "  <th>Skew:</th>          <td>-1.125</td>  <th>  Prob(JB):          </th> <td>    0.00</td> \n",
              "</tr>\n",
              "<tr>\n",
              "  <th>Kurtosis:</th>      <td>38.126</td>  <th>  Cond. No.          </th> <td>5.96e+19</td> \n",
              "</tr>\n",
              "</table><br/><br/>Warnings:<br/>[1] Standard Errors assume that the covariance matrix of the errors is correctly specified.<br/>[2] The smallest eigenvalue is 1.55e-30. This might indicate that there are<br/>strong multicollinearity problems or that the design matrix is singular."
            ],
            "text/plain": [
              "<class 'statsmodels.iolib.summary.Summary'>\n",
              "\"\"\"\n",
              "                            OLS Regression Results                            \n",
              "==============================================================================\n",
              "Dep. Variable:              saleprice   R-squared:                       0.775\n",
              "Model:                            OLS   Adj. R-squared:                  0.773\n",
              "Method:                 Least Squares   F-statistic:                     500.0\n",
              "Date:                Tue, 05 Nov 2019   Prob (F-statistic):               0.00\n",
              "Time:                        14:46:30   Log-Likelihood:                -15757.\n",
              "No. Observations:                1318   AIC:                         3.153e+04\n",
              "Df Residuals:                    1308   BIC:                         3.159e+04\n",
              "Df Model:                           9                                         \n",
              "Covariance Type:            nonrobust                                         \n",
              "================================================================================\n",
              "                   coef    std err          t      P>|t|      [0.025      0.975]\n",
              "--------------------------------------------------------------------------------\n",
              "const        -4.127e+04   4923.196     -8.383      0.000   -5.09e+04   -3.16e+04\n",
              "overallqual   1.884e+04   1335.192     14.107      0.000    1.62e+04    2.15e+04\n",
              "grlivarea       47.6567      2.612     18.249      0.000      42.533      52.780\n",
              "garagecars    1.645e+04   3147.805      5.227      0.000    1.03e+04    2.26e+04\n",
              "garagearea      13.4964     10.494      1.286      0.199      -7.091      34.084\n",
              "totalbsmtsf     26.2237      3.274      8.011      0.000      19.802      32.646\n",
              "exterqual_Ex  3.735e+04   6542.041      5.709      0.000    2.45e+04    5.02e+04\n",
              "exterqual_Fa -3.957e+04   1.15e+04     -3.435      0.001   -6.22e+04    -1.7e+04\n",
              "exterqual_Gd -1.261e+04   4084.879     -3.086      0.002   -2.06e+04   -4591.762\n",
              "exterqual_TA -2.645e+04   3568.598     -7.411      0.000   -3.34e+04   -1.94e+04\n",
              "centralair_N -3.273e+04   3714.024     -8.812      0.000      -4e+04   -2.54e+04\n",
              "centralair_Y -8544.2175   3417.795     -2.500      0.013   -1.52e+04   -1839.257\n",
              "==============================================================================\n",
              "Omnibus:                      603.343   Durbin-Watson:                   1.972\n",
              "Prob(Omnibus):                  0.000   Jarque-Bera (JB):            68036.538\n",
              "Skew:                          -1.125   Prob(JB):                         0.00\n",
              "Kurtosis:                      38.126   Cond. No.                     5.96e+19\n",
              "==============================================================================\n",
              "\n",
              "Warnings:\n",
              "[1] Standard Errors assume that the covariance matrix of the errors is correctly specified.\n",
              "[2] The smallest eigenvalue is 1.55e-30. This might indicate that there are\n",
              "strong multicollinearity problems or that the design matrix is singular.\n",
              "\"\"\""
            ]
          },
          "metadata": {
            "tags": []
          },
          "execution_count": 33
        }
      ]
    },
    {
      "cell_type": "markdown",
      "metadata": {
        "id": "5l529CObCV81",
        "colab_type": "text"
      },
      "source": [
        "All of the features are statitically signficant (p<.05) except for garagearea (which has a pvalue of .199)."
      ]
    },
    {
      "cell_type": "markdown",
      "metadata": {
        "id": "Ims9tZz6Eow2",
        "colab_type": "text"
      },
      "source": [
        "## Remove insignificant features"
      ]
    },
    {
      "cell_type": "code",
      "metadata": {
        "id": "jwwlDc_cCAsd",
        "colab_type": "code",
        "colab": {}
      },
      "source": [
        "#Separate target variable from rest of data\n",
        "X = model_df.drop(columns = ['saleprice', 'garagearea'])\n",
        "y = model_df['saleprice']"
      ],
      "execution_count": 0,
      "outputs": []
    },
    {
      "cell_type": "code",
      "metadata": {
        "id": "YD0ZGM9LDXCG",
        "colab_type": "code",
        "colab": {
          "base_uri": "https://localhost:8080/",
          "height": 716
        },
        "outputId": "25a25efb-2181-4370-8164-a7804ad0864d"
      },
      "source": [
        "X = sm.add_constant(X)\n",
        "\n",
        "results = sm.OLS(y, X).fit()\n",
        "\n",
        "results.summary()"
      ],
      "execution_count": 37,
      "outputs": [
        {
          "output_type": "stream",
          "text": [
            "/usr/local/lib/python3.6/dist-packages/numpy/core/fromnumeric.py:2495: FutureWarning: Method .ptp is deprecated and will be removed in a future version. Use numpy.ptp instead.\n",
            "  return ptp(axis=axis, out=out, **kwargs)\n"
          ],
          "name": "stderr"
        },
        {
          "output_type": "execute_result",
          "data": {
            "text/html": [
              "<table class=\"simpletable\">\n",
              "<caption>OLS Regression Results</caption>\n",
              "<tr>\n",
              "  <th>Dep. Variable:</th>        <td>saleprice</td>    <th>  R-squared:         </th> <td>   0.775</td> \n",
              "</tr>\n",
              "<tr>\n",
              "  <th>Model:</th>                   <td>OLS</td>       <th>  Adj. R-squared:    </th> <td>   0.773</td> \n",
              "</tr>\n",
              "<tr>\n",
              "  <th>Method:</th>             <td>Least Squares</td>  <th>  F-statistic:       </th> <td>   562.0</td> \n",
              "</tr>\n",
              "<tr>\n",
              "  <th>Date:</th>             <td>Tue, 05 Nov 2019</td> <th>  Prob (F-statistic):</th>  <td>  0.00</td>  \n",
              "</tr>\n",
              "<tr>\n",
              "  <th>Time:</th>                 <td>14:52:41</td>     <th>  Log-Likelihood:    </th> <td> -15758.</td> \n",
              "</tr>\n",
              "<tr>\n",
              "  <th>No. Observations:</th>      <td>  1318</td>      <th>  AIC:               </th> <td>3.153e+04</td>\n",
              "</tr>\n",
              "<tr>\n",
              "  <th>Df Residuals:</th>          <td>  1309</td>      <th>  BIC:               </th> <td>3.158e+04</td>\n",
              "</tr>\n",
              "<tr>\n",
              "  <th>Df Model:</th>              <td>     8</td>      <th>                     </th>     <td> </td>    \n",
              "</tr>\n",
              "<tr>\n",
              "  <th>Covariance Type:</th>      <td>nonrobust</td>    <th>                     </th>     <td> </td>    \n",
              "</tr>\n",
              "</table>\n",
              "<table class=\"simpletable\">\n",
              "<tr>\n",
              "        <td></td>          <th>coef</th>     <th>std err</th>      <th>t</th>      <th>P>|t|</th>  <th>[0.025</th>    <th>0.975]</th>  \n",
              "</tr>\n",
              "<tr>\n",
              "  <th>const</th>        <td>-4.095e+04</td> <td> 4918.147</td> <td>   -8.327</td> <td> 0.000</td> <td>-5.06e+04</td> <td>-3.13e+04</td>\n",
              "</tr>\n",
              "<tr>\n",
              "  <th>overallqual</th>  <td> 1.876e+04</td> <td> 1334.287</td> <td>   14.061</td> <td> 0.000</td> <td> 1.61e+04</td> <td> 2.14e+04</td>\n",
              "</tr>\n",
              "<tr>\n",
              "  <th>grlivarea</th>    <td>   47.9542</td> <td>    2.602</td> <td>   18.430</td> <td> 0.000</td> <td>   42.850</td> <td>   53.059</td>\n",
              "</tr>\n",
              "<tr>\n",
              "  <th>garagecars</th>   <td> 1.941e+04</td> <td> 2147.534</td> <td>    9.040</td> <td> 0.000</td> <td> 1.52e+04</td> <td> 2.36e+04</td>\n",
              "</tr>\n",
              "<tr>\n",
              "  <th>totalbsmtsf</th>  <td>   27.1598</td> <td>    3.192</td> <td>    8.507</td> <td> 0.000</td> <td>   20.897</td> <td>   33.423</td>\n",
              "</tr>\n",
              "<tr>\n",
              "  <th>exterqual_Ex</th> <td> 3.745e+04</td> <td> 6543.184</td> <td>    5.724</td> <td> 0.000</td> <td> 2.46e+04</td> <td> 5.03e+04</td>\n",
              "</tr>\n",
              "<tr>\n",
              "  <th>exterqual_Fa</th> <td>-3.856e+04</td> <td> 1.15e+04</td> <td>   -3.354</td> <td> 0.001</td> <td>-6.11e+04</td> <td> -1.6e+04</td>\n",
              "</tr>\n",
              "<tr>\n",
              "  <th>exterqual_Gd</th> <td>  -1.3e+04</td> <td> 4074.614</td> <td>   -3.189</td> <td> 0.001</td> <td> -2.1e+04</td> <td>-5002.082</td>\n",
              "</tr>\n",
              "<tr>\n",
              "  <th>exterqual_TA</th> <td>-2.685e+04</td> <td> 3556.073</td> <td>   -7.549</td> <td> 0.000</td> <td>-3.38e+04</td> <td>-1.99e+04</td>\n",
              "</tr>\n",
              "<tr>\n",
              "  <th>centralair_N</th> <td>-3.267e+04</td> <td> 3714.701</td> <td>   -8.795</td> <td> 0.000</td> <td>   -4e+04</td> <td>-2.54e+04</td>\n",
              "</tr>\n",
              "<tr>\n",
              "  <th>centralair_Y</th> <td>-8280.1366</td> <td> 3412.473</td> <td>   -2.426</td> <td> 0.015</td> <td> -1.5e+04</td> <td>-1585.622</td>\n",
              "</tr>\n",
              "</table>\n",
              "<table class=\"simpletable\">\n",
              "<tr>\n",
              "  <th>Omnibus:</th>       <td>585.883</td> <th>  Durbin-Watson:     </th> <td>   1.972</td> \n",
              "</tr>\n",
              "<tr>\n",
              "  <th>Prob(Omnibus):</th> <td> 0.000</td>  <th>  Jarque-Bera (JB):  </th> <td>63696.739</td>\n",
              "</tr>\n",
              "<tr>\n",
              "  <th>Skew:</th>          <td>-1.071</td>  <th>  Prob(JB):          </th> <td>    0.00</td> \n",
              "</tr>\n",
              "<tr>\n",
              "  <th>Kurtosis:</th>      <td>36.990</td>  <th>  Cond. No.          </th> <td>6.69e+19</td> \n",
              "</tr>\n",
              "</table><br/><br/>Warnings:<br/>[1] Standard Errors assume that the covariance matrix of the errors is correctly specified.<br/>[2] The smallest eigenvalue is 1.15e-30. This might indicate that there are<br/>strong multicollinearity problems or that the design matrix is singular."
            ],
            "text/plain": [
              "<class 'statsmodels.iolib.summary.Summary'>\n",
              "\"\"\"\n",
              "                            OLS Regression Results                            \n",
              "==============================================================================\n",
              "Dep. Variable:              saleprice   R-squared:                       0.775\n",
              "Model:                            OLS   Adj. R-squared:                  0.773\n",
              "Method:                 Least Squares   F-statistic:                     562.0\n",
              "Date:                Tue, 05 Nov 2019   Prob (F-statistic):               0.00\n",
              "Time:                        14:52:41   Log-Likelihood:                -15758.\n",
              "No. Observations:                1318   AIC:                         3.153e+04\n",
              "Df Residuals:                    1309   BIC:                         3.158e+04\n",
              "Df Model:                           8                                         \n",
              "Covariance Type:            nonrobust                                         \n",
              "================================================================================\n",
              "                   coef    std err          t      P>|t|      [0.025      0.975]\n",
              "--------------------------------------------------------------------------------\n",
              "const        -4.095e+04   4918.147     -8.327      0.000   -5.06e+04   -3.13e+04\n",
              "overallqual   1.876e+04   1334.287     14.061      0.000    1.61e+04    2.14e+04\n",
              "grlivarea       47.9542      2.602     18.430      0.000      42.850      53.059\n",
              "garagecars    1.941e+04   2147.534      9.040      0.000    1.52e+04    2.36e+04\n",
              "totalbsmtsf     27.1598      3.192      8.507      0.000      20.897      33.423\n",
              "exterqual_Ex  3.745e+04   6543.184      5.724      0.000    2.46e+04    5.03e+04\n",
              "exterqual_Fa -3.856e+04   1.15e+04     -3.354      0.001   -6.11e+04    -1.6e+04\n",
              "exterqual_Gd   -1.3e+04   4074.614     -3.189      0.001    -2.1e+04   -5002.082\n",
              "exterqual_TA -2.685e+04   3556.073     -7.549      0.000   -3.38e+04   -1.99e+04\n",
              "centralair_N -3.267e+04   3714.701     -8.795      0.000      -4e+04   -2.54e+04\n",
              "centralair_Y -8280.1366   3412.473     -2.426      0.015    -1.5e+04   -1585.622\n",
              "==============================================================================\n",
              "Omnibus:                      585.883   Durbin-Watson:                   1.972\n",
              "Prob(Omnibus):                  0.000   Jarque-Bera (JB):            63696.739\n",
              "Skew:                          -1.071   Prob(JB):                         0.00\n",
              "Kurtosis:                      36.990   Cond. No.                     6.69e+19\n",
              "==============================================================================\n",
              "\n",
              "Warnings:\n",
              "[1] Standard Errors assume that the covariance matrix of the errors is correctly specified.\n",
              "[2] The smallest eigenvalue is 1.15e-30. This might indicate that there are\n",
              "strong multicollinearity problems or that the design matrix is singular.\n",
              "\"\"\""
            ]
          },
          "metadata": {
            "tags": []
          },
          "execution_count": 37
        }
      ]
    },
    {
      "cell_type": "markdown",
      "metadata": {
        "id": "X-7UcoyqDn7Y",
        "colab_type": "text"
      },
      "source": [
        "Dropping garagearea had a small impact on a few features. It made garagecars have a higher coefficient. The least prominent features are totalbsmtsf and grlivarea. The other features like overall quality, garage cars, external quality, and central air all have a much larger impact on saleprice. "
      ]
    }
  ]
}