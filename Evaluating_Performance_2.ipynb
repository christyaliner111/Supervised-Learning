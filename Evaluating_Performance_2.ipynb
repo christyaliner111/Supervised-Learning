{
  "nbformat": 4,
  "nbformat_minor": 0,
  "metadata": {
    "colab": {
      "name": "Evaluating Performance Assignment 2.ipynb",
      "provenance": []
    },
    "kernelspec": {
      "name": "python3",
      "display_name": "Python 3"
    }
  },
  "cells": [
    {
      "cell_type": "markdown",
      "metadata": {
        "id": "akZq1iDiNqef",
        "colab_type": "text"
      },
      "source": [
        "# Import DataFrame and Prep Model"
      ]
    },
    {
      "cell_type": "code",
      "metadata": {
        "id": "G5_tp6WENv_K",
        "colab_type": "code",
        "colab": {}
      },
      "source": [
        "#Arrays and Dataframe\n",
        "import numpy as np\n",
        "import pandas as pd\n",
        "\n",
        "#SQL\n",
        "from sqlalchemy import create_engine\n",
        "\n",
        "#Visualization\n",
        "from matplotlib import pyplot as plt\n",
        "import seaborn as sns\n",
        "sns.set()\n",
        "\n",
        "#Data Exploration\n",
        "from scipy import stats\n",
        "\n",
        "#Data Modeling\n",
        "from sklearn import linear_model\n",
        "from sklearn.svm import LinearSVC\n",
        "import statsmodels.api as sm\n",
        "from sklearn.model_selection import train_test_split\n",
        "from statsmodels.stats.outliers_influence import variance_inflation_factor \n",
        "from statsmodels.tools.tools import add_constant\n",
        "\n",
        "from statsmodels.tsa.stattools import acf\n",
        "\n",
        "from scipy.stats import jarque_bera\n",
        "from scipy.stats import normaltest"
      ],
      "execution_count": 0,
      "outputs": []
    },
    {
      "cell_type": "code",
      "metadata": {
        "id": "_BM1tu4YNZwJ",
        "colab_type": "code",
        "colab": {
          "base_uri": "https://localhost:8080/",
          "height": 0
        },
        "outputId": "b1e25f12-ab2a-4a4d-b253-a1d6776690bb"
      },
      "source": [
        "#Make SQL Queary\n",
        "postgres_user = 'dsbc_student'\n",
        "postgres_pw = '7*.8G9QH21'\n",
        "postgres_host = '142.93.121.174'\n",
        "postgres_port = '5432'\n",
        "postgres_db = 'houseprices'\n",
        "\n",
        "engine = create_engine('postgresql://{}:{}@{}:{}/{}'.format(\n",
        "    postgres_user, postgres_pw, postgres_host, postgres_port, postgres_db))\n",
        "\n",
        "df = pd.read_sql_query('select * from houseprices',con=engine)\n",
        "\n",
        "# no need for an open connection, as we're only doing a single query\n",
        "engine.dispose()"
      ],
      "execution_count": 3,
      "outputs": [
        {
          "output_type": "stream",
          "text": [
            "/usr/local/lib/python3.6/dist-packages/psycopg2/__init__.py:144: UserWarning: The psycopg2 wheel package will be renamed from release 2.8; in order to keep installing from binary please use \"pip install psycopg2-binary\" instead. For details see: <http://initd.org/psycopg/docs/install.html#binary-install-from-pypi>.\n",
            "  \"\"\")\n"
          ],
          "name": "stderr"
        }
      ]
    },
    {
      "cell_type": "code",
      "metadata": {
        "id": "51zawGLENcbI",
        "colab_type": "code",
        "colab": {}
      },
      "source": [
        "#Drop columns that have a large number of null values (over 30%)\n",
        "df1 = df.drop(columns = ['alley', 'fireplacequ', 'poolqc', 'fence', 'miscfeature'])"
      ],
      "execution_count": 0,
      "outputs": []
    },
    {
      "cell_type": "code",
      "metadata": {
        "id": "LXBT4IPfNeeQ",
        "colab_type": "code",
        "colab": {}
      },
      "source": [
        "#make a copy of df1\n",
        "df2 = df1.copy()\n",
        "\n",
        "#interpolate based on the year\n",
        "year_list = list(df1['yearbuilt'].unique())\n",
        "for year in year_list:\n",
        "    df2.loc[df1['yearbuilt']==year] = df2.loc[df1['yearbuilt']==year].interpolate()\n",
        "\n",
        "# drop missing values that are remaining\n",
        "df2.dropna(inplace = True)"
      ],
      "execution_count": 0,
      "outputs": []
    },
    {
      "cell_type": "code",
      "metadata": {
        "id": "cezxOGpyNfoY",
        "colab_type": "code",
        "colab": {}
      },
      "source": [
        "#update data types\n",
        "non_numeric = df1.select_dtypes(include = 'object')\n",
        "numeric = df1.select_dtypes(include = ['float64', 'int64'])"
      ],
      "execution_count": 0,
      "outputs": []
    },
    {
      "cell_type": "code",
      "metadata": {
        "id": "E4xmQEb3NhiH",
        "colab_type": "code",
        "colab": {}
      },
      "source": [
        "#pick top 5 numeric:\n",
        "df3 = df2.loc[:, ['overallqual', 'grlivarea', 'garagecars', 'garagearea', 'totalbsmtsf', 'saleprice']]"
      ],
      "execution_count": 0,
      "outputs": []
    },
    {
      "cell_type": "code",
      "metadata": {
        "id": "tU1fuAPmNhkr",
        "colab_type": "code",
        "colab": {}
      },
      "source": [
        "#Choose Central Air and External Quality as the features I'll use for the model\n",
        "df4 = df2.loc[:, ['exterqual', 'centralair']]\n",
        "\n",
        "#One Hot encoding of categorical variables\n",
        "df5 = pd.get_dummies(df4, columns = ['exterqual', 'centralair'])"
      ],
      "execution_count": 0,
      "outputs": []
    },
    {
      "cell_type": "code",
      "metadata": {
        "id": "BcT9rJvzNhnN",
        "colab_type": "code",
        "colab": {}
      },
      "source": [
        "#Combine Dataframes\n",
        "df3\n",
        "df5\n",
        "model_df = pd.concat([df3, df5], axis = 1)"
      ],
      "execution_count": 0,
      "outputs": []
    },
    {
      "cell_type": "markdown",
      "metadata": {
        "id": "GxRKx37hNlcv",
        "colab_type": "text"
      },
      "source": [
        "# Create Model\n"
      ]
    },
    {
      "cell_type": "markdown",
      "metadata": {
        "id": "0uDEohxTOQiC",
        "colab_type": "text"
      },
      "source": [
        "## Run 1st Model"
      ]
    },
    {
      "cell_type": "code",
      "metadata": {
        "id": "2AiYctHTNhpp",
        "colab_type": "code",
        "colab": {}
      },
      "source": [
        "#Separate target variable from rest of data\n",
        "X = model_df.drop(columns = 'saleprice')\n",
        "y = model_df['saleprice']\n",
        "\n",
        "#split train_test\n",
        "X_train, X_test, y_train, y_test = train_test_split(X, y)"
      ],
      "execution_count": 0,
      "outputs": []
    },
    {
      "cell_type": "code",
      "metadata": {
        "id": "DR2lr30SNhsR",
        "colab_type": "code",
        "colab": {
          "base_uri": "https://localhost:8080/",
          "height": 737
        },
        "outputId": "8b5a97ad-ae9e-4117-e489-5a21d69790c0"
      },
      "source": [
        "X = sm.add_constant(X)\n",
        "\n",
        "results = sm.OLS(y, X).fit()\n",
        "\n",
        "results.summary()"
      ],
      "execution_count": 11,
      "outputs": [
        {
          "output_type": "stream",
          "text": [
            "/usr/local/lib/python3.6/dist-packages/numpy/core/fromnumeric.py:2495: FutureWarning: Method .ptp is deprecated and will be removed in a future version. Use numpy.ptp instead.\n",
            "  return ptp(axis=axis, out=out, **kwargs)\n"
          ],
          "name": "stderr"
        },
        {
          "output_type": "execute_result",
          "data": {
            "text/html": [
              "<table class=\"simpletable\">\n",
              "<caption>OLS Regression Results</caption>\n",
              "<tr>\n",
              "  <th>Dep. Variable:</th>        <td>saleprice</td>    <th>  R-squared:         </th> <td>   0.775</td> \n",
              "</tr>\n",
              "<tr>\n",
              "  <th>Model:</th>                   <td>OLS</td>       <th>  Adj. R-squared:    </th> <td>   0.773</td> \n",
              "</tr>\n",
              "<tr>\n",
              "  <th>Method:</th>             <td>Least Squares</td>  <th>  F-statistic:       </th> <td>   500.0</td> \n",
              "</tr>\n",
              "<tr>\n",
              "  <th>Date:</th>             <td>Tue, 05 Nov 2019</td> <th>  Prob (F-statistic):</th>  <td>  0.00</td>  \n",
              "</tr>\n",
              "<tr>\n",
              "  <th>Time:</th>                 <td>20:18:06</td>     <th>  Log-Likelihood:    </th> <td> -15757.</td> \n",
              "</tr>\n",
              "<tr>\n",
              "  <th>No. Observations:</th>      <td>  1318</td>      <th>  AIC:               </th> <td>3.153e+04</td>\n",
              "</tr>\n",
              "<tr>\n",
              "  <th>Df Residuals:</th>          <td>  1308</td>      <th>  BIC:               </th> <td>3.159e+04</td>\n",
              "</tr>\n",
              "<tr>\n",
              "  <th>Df Model:</th>              <td>     9</td>      <th>                     </th>     <td> </td>    \n",
              "</tr>\n",
              "<tr>\n",
              "  <th>Covariance Type:</th>      <td>nonrobust</td>    <th>                     </th>     <td> </td>    \n",
              "</tr>\n",
              "</table>\n",
              "<table class=\"simpletable\">\n",
              "<tr>\n",
              "        <td></td>          <th>coef</th>     <th>std err</th>      <th>t</th>      <th>P>|t|</th>  <th>[0.025</th>    <th>0.975]</th>  \n",
              "</tr>\n",
              "<tr>\n",
              "  <th>const</th>        <td>-4.127e+04</td> <td> 4923.196</td> <td>   -8.383</td> <td> 0.000</td> <td>-5.09e+04</td> <td>-3.16e+04</td>\n",
              "</tr>\n",
              "<tr>\n",
              "  <th>overallqual</th>  <td> 1.884e+04</td> <td> 1335.192</td> <td>   14.107</td> <td> 0.000</td> <td> 1.62e+04</td> <td> 2.15e+04</td>\n",
              "</tr>\n",
              "<tr>\n",
              "  <th>grlivarea</th>    <td>   47.6567</td> <td>    2.612</td> <td>   18.249</td> <td> 0.000</td> <td>   42.533</td> <td>   52.780</td>\n",
              "</tr>\n",
              "<tr>\n",
              "  <th>garagecars</th>   <td> 1.645e+04</td> <td> 3147.805</td> <td>    5.227</td> <td> 0.000</td> <td> 1.03e+04</td> <td> 2.26e+04</td>\n",
              "</tr>\n",
              "<tr>\n",
              "  <th>garagearea</th>   <td>   13.4964</td> <td>   10.494</td> <td>    1.286</td> <td> 0.199</td> <td>   -7.091</td> <td>   34.084</td>\n",
              "</tr>\n",
              "<tr>\n",
              "  <th>totalbsmtsf</th>  <td>   26.2237</td> <td>    3.274</td> <td>    8.011</td> <td> 0.000</td> <td>   19.802</td> <td>   32.646</td>\n",
              "</tr>\n",
              "<tr>\n",
              "  <th>exterqual_Ex</th> <td> 3.735e+04</td> <td> 6542.041</td> <td>    5.709</td> <td> 0.000</td> <td> 2.45e+04</td> <td> 5.02e+04</td>\n",
              "</tr>\n",
              "<tr>\n",
              "  <th>exterqual_Fa</th> <td>-3.957e+04</td> <td> 1.15e+04</td> <td>   -3.435</td> <td> 0.001</td> <td>-6.22e+04</td> <td> -1.7e+04</td>\n",
              "</tr>\n",
              "<tr>\n",
              "  <th>exterqual_Gd</th> <td>-1.261e+04</td> <td> 4084.879</td> <td>   -3.086</td> <td> 0.002</td> <td>-2.06e+04</td> <td>-4591.762</td>\n",
              "</tr>\n",
              "<tr>\n",
              "  <th>exterqual_TA</th> <td>-2.645e+04</td> <td> 3568.598</td> <td>   -7.411</td> <td> 0.000</td> <td>-3.34e+04</td> <td>-1.94e+04</td>\n",
              "</tr>\n",
              "<tr>\n",
              "  <th>centralair_N</th> <td>-3.273e+04</td> <td> 3714.024</td> <td>   -8.812</td> <td> 0.000</td> <td>   -4e+04</td> <td>-2.54e+04</td>\n",
              "</tr>\n",
              "<tr>\n",
              "  <th>centralair_Y</th> <td>-8544.2175</td> <td> 3417.795</td> <td>   -2.500</td> <td> 0.013</td> <td>-1.52e+04</td> <td>-1839.257</td>\n",
              "</tr>\n",
              "</table>\n",
              "<table class=\"simpletable\">\n",
              "<tr>\n",
              "  <th>Omnibus:</th>       <td>603.343</td> <th>  Durbin-Watson:     </th> <td>   1.972</td> \n",
              "</tr>\n",
              "<tr>\n",
              "  <th>Prob(Omnibus):</th> <td> 0.000</td>  <th>  Jarque-Bera (JB):  </th> <td>68036.538</td>\n",
              "</tr>\n",
              "<tr>\n",
              "  <th>Skew:</th>          <td>-1.125</td>  <th>  Prob(JB):          </th> <td>    0.00</td> \n",
              "</tr>\n",
              "<tr>\n",
              "  <th>Kurtosis:</th>      <td>38.126</td>  <th>  Cond. No.          </th> <td>5.96e+19</td> \n",
              "</tr>\n",
              "</table><br/><br/>Warnings:<br/>[1] Standard Errors assume that the covariance matrix of the errors is correctly specified.<br/>[2] The smallest eigenvalue is 1.55e-30. This might indicate that there are<br/>strong multicollinearity problems or that the design matrix is singular."
            ],
            "text/plain": [
              "<class 'statsmodels.iolib.summary.Summary'>\n",
              "\"\"\"\n",
              "                            OLS Regression Results                            \n",
              "==============================================================================\n",
              "Dep. Variable:              saleprice   R-squared:                       0.775\n",
              "Model:                            OLS   Adj. R-squared:                  0.773\n",
              "Method:                 Least Squares   F-statistic:                     500.0\n",
              "Date:                Tue, 05 Nov 2019   Prob (F-statistic):               0.00\n",
              "Time:                        20:18:06   Log-Likelihood:                -15757.\n",
              "No. Observations:                1318   AIC:                         3.153e+04\n",
              "Df Residuals:                    1308   BIC:                         3.159e+04\n",
              "Df Model:                           9                                         \n",
              "Covariance Type:            nonrobust                                         \n",
              "================================================================================\n",
              "                   coef    std err          t      P>|t|      [0.025      0.975]\n",
              "--------------------------------------------------------------------------------\n",
              "const        -4.127e+04   4923.196     -8.383      0.000   -5.09e+04   -3.16e+04\n",
              "overallqual   1.884e+04   1335.192     14.107      0.000    1.62e+04    2.15e+04\n",
              "grlivarea       47.6567      2.612     18.249      0.000      42.533      52.780\n",
              "garagecars    1.645e+04   3147.805      5.227      0.000    1.03e+04    2.26e+04\n",
              "garagearea      13.4964     10.494      1.286      0.199      -7.091      34.084\n",
              "totalbsmtsf     26.2237      3.274      8.011      0.000      19.802      32.646\n",
              "exterqual_Ex  3.735e+04   6542.041      5.709      0.000    2.45e+04    5.02e+04\n",
              "exterqual_Fa -3.957e+04   1.15e+04     -3.435      0.001   -6.22e+04    -1.7e+04\n",
              "exterqual_Gd -1.261e+04   4084.879     -3.086      0.002   -2.06e+04   -4591.762\n",
              "exterqual_TA -2.645e+04   3568.598     -7.411      0.000   -3.34e+04   -1.94e+04\n",
              "centralair_N -3.273e+04   3714.024     -8.812      0.000      -4e+04   -2.54e+04\n",
              "centralair_Y -8544.2175   3417.795     -2.500      0.013   -1.52e+04   -1839.257\n",
              "==============================================================================\n",
              "Omnibus:                      603.343   Durbin-Watson:                   1.972\n",
              "Prob(Omnibus):                  0.000   Jarque-Bera (JB):            68036.538\n",
              "Skew:                          -1.125   Prob(JB):                         0.00\n",
              "Kurtosis:                      38.126   Cond. No.                     5.96e+19\n",
              "==============================================================================\n",
              "\n",
              "Warnings:\n",
              "[1] Standard Errors assume that the covariance matrix of the errors is correctly specified.\n",
              "[2] The smallest eigenvalue is 1.55e-30. This might indicate that there are\n",
              "strong multicollinearity problems or that the design matrix is singular.\n",
              "\"\"\""
            ]
          },
          "metadata": {
            "tags": []
          },
          "execution_count": 11
        }
      ]
    },
    {
      "cell_type": "markdown",
      "metadata": {
        "id": "lTJLQB_ZN-7b",
        "colab_type": "text"
      },
      "source": [
        "This model has a high F statistic (500). The R-sqared and R-adjusted are around 77%, which means that 77% of the variance can be explained by the current features. The only feauture that seems to be statistically insignificant is garagearea. This will be removed and the model retested. "
      ]
    },
    {
      "cell_type": "markdown",
      "metadata": {
        "id": "019TD5v0OTbX",
        "colab_type": "text"
      },
      "source": [
        "## Run Second Model"
      ]
    },
    {
      "cell_type": "code",
      "metadata": {
        "id": "EWoRlRswN-O7",
        "colab_type": "code",
        "colab": {}
      },
      "source": [
        "#Separate target variable from rest of data\n",
        "X1 = model_df.drop(columns = ['saleprice', 'garagearea'])\n",
        "y = model_df['saleprice']"
      ],
      "execution_count": 0,
      "outputs": []
    },
    {
      "cell_type": "code",
      "metadata": {
        "id": "KyjdScyBNhu7",
        "colab_type": "code",
        "colab": {
          "base_uri": "https://localhost:8080/",
          "height": 716
        },
        "outputId": "ef17961d-65ad-4df1-d04a-74b9f9369207"
      },
      "source": [
        "X1 = sm.add_constant(X1)\n",
        "\n",
        "results1 = sm.OLS(y, X1).fit()\n",
        "\n",
        "results1.summary()"
      ],
      "execution_count": 13,
      "outputs": [
        {
          "output_type": "stream",
          "text": [
            "/usr/local/lib/python3.6/dist-packages/numpy/core/fromnumeric.py:2495: FutureWarning: Method .ptp is deprecated and will be removed in a future version. Use numpy.ptp instead.\n",
            "  return ptp(axis=axis, out=out, **kwargs)\n"
          ],
          "name": "stderr"
        },
        {
          "output_type": "execute_result",
          "data": {
            "text/html": [
              "<table class=\"simpletable\">\n",
              "<caption>OLS Regression Results</caption>\n",
              "<tr>\n",
              "  <th>Dep. Variable:</th>        <td>saleprice</td>    <th>  R-squared:         </th> <td>   0.775</td> \n",
              "</tr>\n",
              "<tr>\n",
              "  <th>Model:</th>                   <td>OLS</td>       <th>  Adj. R-squared:    </th> <td>   0.773</td> \n",
              "</tr>\n",
              "<tr>\n",
              "  <th>Method:</th>             <td>Least Squares</td>  <th>  F-statistic:       </th> <td>   562.0</td> \n",
              "</tr>\n",
              "<tr>\n",
              "  <th>Date:</th>             <td>Tue, 05 Nov 2019</td> <th>  Prob (F-statistic):</th>  <td>  0.00</td>  \n",
              "</tr>\n",
              "<tr>\n",
              "  <th>Time:</th>                 <td>20:20:10</td>     <th>  Log-Likelihood:    </th> <td> -15758.</td> \n",
              "</tr>\n",
              "<tr>\n",
              "  <th>No. Observations:</th>      <td>  1318</td>      <th>  AIC:               </th> <td>3.153e+04</td>\n",
              "</tr>\n",
              "<tr>\n",
              "  <th>Df Residuals:</th>          <td>  1309</td>      <th>  BIC:               </th> <td>3.158e+04</td>\n",
              "</tr>\n",
              "<tr>\n",
              "  <th>Df Model:</th>              <td>     8</td>      <th>                     </th>     <td> </td>    \n",
              "</tr>\n",
              "<tr>\n",
              "  <th>Covariance Type:</th>      <td>nonrobust</td>    <th>                     </th>     <td> </td>    \n",
              "</tr>\n",
              "</table>\n",
              "<table class=\"simpletable\">\n",
              "<tr>\n",
              "        <td></td>          <th>coef</th>     <th>std err</th>      <th>t</th>      <th>P>|t|</th>  <th>[0.025</th>    <th>0.975]</th>  \n",
              "</tr>\n",
              "<tr>\n",
              "  <th>const</th>        <td>-4.095e+04</td> <td> 4918.147</td> <td>   -8.327</td> <td> 0.000</td> <td>-5.06e+04</td> <td>-3.13e+04</td>\n",
              "</tr>\n",
              "<tr>\n",
              "  <th>overallqual</th>  <td> 1.876e+04</td> <td> 1334.287</td> <td>   14.061</td> <td> 0.000</td> <td> 1.61e+04</td> <td> 2.14e+04</td>\n",
              "</tr>\n",
              "<tr>\n",
              "  <th>grlivarea</th>    <td>   47.9542</td> <td>    2.602</td> <td>   18.430</td> <td> 0.000</td> <td>   42.850</td> <td>   53.059</td>\n",
              "</tr>\n",
              "<tr>\n",
              "  <th>garagecars</th>   <td> 1.941e+04</td> <td> 2147.534</td> <td>    9.040</td> <td> 0.000</td> <td> 1.52e+04</td> <td> 2.36e+04</td>\n",
              "</tr>\n",
              "<tr>\n",
              "  <th>totalbsmtsf</th>  <td>   27.1598</td> <td>    3.192</td> <td>    8.507</td> <td> 0.000</td> <td>   20.897</td> <td>   33.423</td>\n",
              "</tr>\n",
              "<tr>\n",
              "  <th>exterqual_Ex</th> <td> 3.745e+04</td> <td> 6543.184</td> <td>    5.724</td> <td> 0.000</td> <td> 2.46e+04</td> <td> 5.03e+04</td>\n",
              "</tr>\n",
              "<tr>\n",
              "  <th>exterqual_Fa</th> <td>-3.856e+04</td> <td> 1.15e+04</td> <td>   -3.354</td> <td> 0.001</td> <td>-6.11e+04</td> <td> -1.6e+04</td>\n",
              "</tr>\n",
              "<tr>\n",
              "  <th>exterqual_Gd</th> <td>  -1.3e+04</td> <td> 4074.614</td> <td>   -3.189</td> <td> 0.001</td> <td> -2.1e+04</td> <td>-5002.082</td>\n",
              "</tr>\n",
              "<tr>\n",
              "  <th>exterqual_TA</th> <td>-2.685e+04</td> <td> 3556.073</td> <td>   -7.549</td> <td> 0.000</td> <td>-3.38e+04</td> <td>-1.99e+04</td>\n",
              "</tr>\n",
              "<tr>\n",
              "  <th>centralair_N</th> <td>-3.267e+04</td> <td> 3714.701</td> <td>   -8.795</td> <td> 0.000</td> <td>   -4e+04</td> <td>-2.54e+04</td>\n",
              "</tr>\n",
              "<tr>\n",
              "  <th>centralair_Y</th> <td>-8280.1366</td> <td> 3412.473</td> <td>   -2.426</td> <td> 0.015</td> <td> -1.5e+04</td> <td>-1585.622</td>\n",
              "</tr>\n",
              "</table>\n",
              "<table class=\"simpletable\">\n",
              "<tr>\n",
              "  <th>Omnibus:</th>       <td>585.883</td> <th>  Durbin-Watson:     </th> <td>   1.972</td> \n",
              "</tr>\n",
              "<tr>\n",
              "  <th>Prob(Omnibus):</th> <td> 0.000</td>  <th>  Jarque-Bera (JB):  </th> <td>63696.739</td>\n",
              "</tr>\n",
              "<tr>\n",
              "  <th>Skew:</th>          <td>-1.071</td>  <th>  Prob(JB):          </th> <td>    0.00</td> \n",
              "</tr>\n",
              "<tr>\n",
              "  <th>Kurtosis:</th>      <td>36.990</td>  <th>  Cond. No.          </th> <td>6.69e+19</td> \n",
              "</tr>\n",
              "</table><br/><br/>Warnings:<br/>[1] Standard Errors assume that the covariance matrix of the errors is correctly specified.<br/>[2] The smallest eigenvalue is 1.15e-30. This might indicate that there are<br/>strong multicollinearity problems or that the design matrix is singular."
            ],
            "text/plain": [
              "<class 'statsmodels.iolib.summary.Summary'>\n",
              "\"\"\"\n",
              "                            OLS Regression Results                            \n",
              "==============================================================================\n",
              "Dep. Variable:              saleprice   R-squared:                       0.775\n",
              "Model:                            OLS   Adj. R-squared:                  0.773\n",
              "Method:                 Least Squares   F-statistic:                     562.0\n",
              "Date:                Tue, 05 Nov 2019   Prob (F-statistic):               0.00\n",
              "Time:                        20:20:10   Log-Likelihood:                -15758.\n",
              "No. Observations:                1318   AIC:                         3.153e+04\n",
              "Df Residuals:                    1309   BIC:                         3.158e+04\n",
              "Df Model:                           8                                         \n",
              "Covariance Type:            nonrobust                                         \n",
              "================================================================================\n",
              "                   coef    std err          t      P>|t|      [0.025      0.975]\n",
              "--------------------------------------------------------------------------------\n",
              "const        -4.095e+04   4918.147     -8.327      0.000   -5.06e+04   -3.13e+04\n",
              "overallqual   1.876e+04   1334.287     14.061      0.000    1.61e+04    2.14e+04\n",
              "grlivarea       47.9542      2.602     18.430      0.000      42.850      53.059\n",
              "garagecars    1.941e+04   2147.534      9.040      0.000    1.52e+04    2.36e+04\n",
              "totalbsmtsf     27.1598      3.192      8.507      0.000      20.897      33.423\n",
              "exterqual_Ex  3.745e+04   6543.184      5.724      0.000    2.46e+04    5.03e+04\n",
              "exterqual_Fa -3.856e+04   1.15e+04     -3.354      0.001   -6.11e+04    -1.6e+04\n",
              "exterqual_Gd   -1.3e+04   4074.614     -3.189      0.001    -2.1e+04   -5002.082\n",
              "exterqual_TA -2.685e+04   3556.073     -7.549      0.000   -3.38e+04   -1.99e+04\n",
              "centralair_N -3.267e+04   3714.701     -8.795      0.000      -4e+04   -2.54e+04\n",
              "centralair_Y -8280.1366   3412.473     -2.426      0.015    -1.5e+04   -1585.622\n",
              "==============================================================================\n",
              "Omnibus:                      585.883   Durbin-Watson:                   1.972\n",
              "Prob(Omnibus):                  0.000   Jarque-Bera (JB):            63696.739\n",
              "Skew:                          -1.071   Prob(JB):                         0.00\n",
              "Kurtosis:                      36.990   Cond. No.                     6.69e+19\n",
              "==============================================================================\n",
              "\n",
              "Warnings:\n",
              "[1] Standard Errors assume that the covariance matrix of the errors is correctly specified.\n",
              "[2] The smallest eigenvalue is 1.15e-30. This might indicate that there are\n",
              "strong multicollinearity problems or that the design matrix is singular.\n",
              "\"\"\""
            ]
          },
          "metadata": {
            "tags": []
          },
          "execution_count": 13
        }
      ]
    },
    {
      "cell_type": "markdown",
      "metadata": {
        "id": "ncqUKmfnOagX",
        "colab_type": "text"
      },
      "source": [
        "The F statistic improved with the removal of garagearea. R-squared and r-adjusted remained the same. AIC remained the same while BIC had a minor improvement. "
      ]
    },
    {
      "cell_type": "markdown",
      "metadata": {
        "id": "znpyFq3iPKx_",
        "colab_type": "text"
      },
      "source": [
        "## Run 3rd Model"
      ]
    },
    {
      "cell_type": "code",
      "metadata": {
        "id": "g9QGzqFiOS5Y",
        "colab_type": "code",
        "colab": {}
      },
      "source": [
        "#Separate target variable from rest of data - also remove central air\n",
        "X2 = model_df.drop(columns = ['saleprice', 'garagearea', 'centralair_N', 'centralair_Y'])\n",
        "y = model_df['saleprice']"
      ],
      "execution_count": 0,
      "outputs": []
    },
    {
      "cell_type": "code",
      "metadata": {
        "id": "qYFvq1kANhwi",
        "colab_type": "code",
        "colab": {
          "base_uri": "https://localhost:8080/",
          "height": 675
        },
        "outputId": "c12390d6-993c-422b-f375-12aca5ec343f"
      },
      "source": [
        "X2 = sm.add_constant(X2)\n",
        "\n",
        "results2 = sm.OLS(y, X2).fit()\n",
        "\n",
        "results2.summary()"
      ],
      "execution_count": 15,
      "outputs": [
        {
          "output_type": "stream",
          "text": [
            "/usr/local/lib/python3.6/dist-packages/numpy/core/fromnumeric.py:2495: FutureWarning: Method .ptp is deprecated and will be removed in a future version. Use numpy.ptp instead.\n",
            "  return ptp(axis=axis, out=out, **kwargs)\n"
          ],
          "name": "stderr"
        },
        {
          "output_type": "execute_result",
          "data": {
            "text/html": [
              "<table class=\"simpletable\">\n",
              "<caption>OLS Regression Results</caption>\n",
              "<tr>\n",
              "  <th>Dep. Variable:</th>        <td>saleprice</td>    <th>  R-squared:         </th> <td>   0.771</td> \n",
              "</tr>\n",
              "<tr>\n",
              "  <th>Model:</th>                   <td>OLS</td>       <th>  Adj. R-squared:    </th> <td>   0.769</td> \n",
              "</tr>\n",
              "<tr>\n",
              "  <th>Method:</th>             <td>Least Squares</td>  <th>  F-statistic:       </th> <td>   628.9</td> \n",
              "</tr>\n",
              "<tr>\n",
              "  <th>Date:</th>             <td>Tue, 05 Nov 2019</td> <th>  Prob (F-statistic):</th>  <td>  0.00</td>  \n",
              "</tr>\n",
              "<tr>\n",
              "  <th>Time:</th>                 <td>20:25:00</td>     <th>  Log-Likelihood:    </th> <td> -15769.</td> \n",
              "</tr>\n",
              "<tr>\n",
              "  <th>No. Observations:</th>      <td>  1318</td>      <th>  AIC:               </th> <td>3.155e+04</td>\n",
              "</tr>\n",
              "<tr>\n",
              "  <th>Df Residuals:</th>          <td>  1310</td>      <th>  BIC:               </th> <td>3.159e+04</td>\n",
              "</tr>\n",
              "<tr>\n",
              "  <th>Df Model:</th>              <td>     7</td>      <th>                     </th>     <td> </td>    \n",
              "</tr>\n",
              "<tr>\n",
              "  <th>Covariance Type:</th>      <td>nonrobust</td>    <th>                     </th>     <td> </td>    \n",
              "</tr>\n",
              "</table>\n",
              "<table class=\"simpletable\">\n",
              "<tr>\n",
              "        <td></td>          <th>coef</th>     <th>std err</th>      <th>t</th>      <th>P>|t|</th>  <th>[0.025</th>    <th>0.975]</th>  \n",
              "</tr>\n",
              "<tr>\n",
              "  <th>const</th>        <td>-5.458e+04</td> <td> 6916.130</td> <td>   -7.891</td> <td> 0.000</td> <td>-6.81e+04</td> <td> -4.1e+04</td>\n",
              "</tr>\n",
              "<tr>\n",
              "  <th>overallqual</th>  <td>  1.95e+04</td> <td> 1335.707</td> <td>   14.602</td> <td> 0.000</td> <td> 1.69e+04</td> <td> 2.21e+04</td>\n",
              "</tr>\n",
              "<tr>\n",
              "  <th>grlivarea</th>    <td>   46.6995</td> <td>    2.609</td> <td>   17.898</td> <td> 0.000</td> <td>   41.581</td> <td>   51.818</td>\n",
              "</tr>\n",
              "<tr>\n",
              "  <th>garagecars</th>   <td> 1.968e+04</td> <td> 2164.181</td> <td>    9.091</td> <td> 0.000</td> <td> 1.54e+04</td> <td> 2.39e+04</td>\n",
              "</tr>\n",
              "<tr>\n",
              "  <th>totalbsmtsf</th>  <td>   28.3624</td> <td>    3.208</td> <td>    8.841</td> <td> 0.000</td> <td>   22.069</td> <td>   34.656</td>\n",
              "</tr>\n",
              "<tr>\n",
              "  <th>exterqual_Ex</th> <td> 3.615e+04</td> <td> 6800.529</td> <td>    5.316</td> <td> 0.000</td> <td> 2.28e+04</td> <td> 4.95e+04</td>\n",
              "</tr>\n",
              "<tr>\n",
              "  <th>exterqual_Fa</th> <td>-5.058e+04</td> <td> 1.16e+04</td> <td>   -4.353</td> <td> 0.000</td> <td>-7.34e+04</td> <td>-2.78e+04</td>\n",
              "</tr>\n",
              "<tr>\n",
              "  <th>exterqual_Gd</th> <td>-1.307e+04</td> <td> 4082.332</td> <td>   -3.201</td> <td> 0.001</td> <td>-2.11e+04</td> <td>-5057.349</td>\n",
              "</tr>\n",
              "<tr>\n",
              "  <th>exterqual_TA</th> <td>-2.709e+04</td> <td> 3301.581</td> <td>   -8.205</td> <td> 0.000</td> <td>-3.36e+04</td> <td>-2.06e+04</td>\n",
              "</tr>\n",
              "</table>\n",
              "<table class=\"simpletable\">\n",
              "<tr>\n",
              "  <th>Omnibus:</th>       <td>587.167</td> <th>  Durbin-Watson:     </th> <td>   1.972</td> \n",
              "</tr>\n",
              "<tr>\n",
              "  <th>Prob(Omnibus):</th> <td> 0.000</td>  <th>  Jarque-Bera (JB):  </th> <td>60260.647</td>\n",
              "</tr>\n",
              "<tr>\n",
              "  <th>Skew:</th>          <td>-1.092</td>  <th>  Prob(JB):          </th> <td>    0.00</td> \n",
              "</tr>\n",
              "<tr>\n",
              "  <th>Kurtosis:</th>      <td>36.054</td>  <th>  Cond. No.          </th> <td>2.33e+18</td> \n",
              "</tr>\n",
              "</table><br/><br/>Warnings:<br/>[1] Standard Errors assume that the covariance matrix of the errors is correctly specified.<br/>[2] The smallest eigenvalue is 9.48e-28. This might indicate that there are<br/>strong multicollinearity problems or that the design matrix is singular."
            ],
            "text/plain": [
              "<class 'statsmodels.iolib.summary.Summary'>\n",
              "\"\"\"\n",
              "                            OLS Regression Results                            \n",
              "==============================================================================\n",
              "Dep. Variable:              saleprice   R-squared:                       0.771\n",
              "Model:                            OLS   Adj. R-squared:                  0.769\n",
              "Method:                 Least Squares   F-statistic:                     628.9\n",
              "Date:                Tue, 05 Nov 2019   Prob (F-statistic):               0.00\n",
              "Time:                        20:25:00   Log-Likelihood:                -15769.\n",
              "No. Observations:                1318   AIC:                         3.155e+04\n",
              "Df Residuals:                    1310   BIC:                         3.159e+04\n",
              "Df Model:                           7                                         \n",
              "Covariance Type:            nonrobust                                         \n",
              "================================================================================\n",
              "                   coef    std err          t      P>|t|      [0.025      0.975]\n",
              "--------------------------------------------------------------------------------\n",
              "const        -5.458e+04   6916.130     -7.891      0.000   -6.81e+04    -4.1e+04\n",
              "overallqual    1.95e+04   1335.707     14.602      0.000    1.69e+04    2.21e+04\n",
              "grlivarea       46.6995      2.609     17.898      0.000      41.581      51.818\n",
              "garagecars    1.968e+04   2164.181      9.091      0.000    1.54e+04    2.39e+04\n",
              "totalbsmtsf     28.3624      3.208      8.841      0.000      22.069      34.656\n",
              "exterqual_Ex  3.615e+04   6800.529      5.316      0.000    2.28e+04    4.95e+04\n",
              "exterqual_Fa -5.058e+04   1.16e+04     -4.353      0.000   -7.34e+04   -2.78e+04\n",
              "exterqual_Gd -1.307e+04   4082.332     -3.201      0.001   -2.11e+04   -5057.349\n",
              "exterqual_TA -2.709e+04   3301.581     -8.205      0.000   -3.36e+04   -2.06e+04\n",
              "==============================================================================\n",
              "Omnibus:                      587.167   Durbin-Watson:                   1.972\n",
              "Prob(Omnibus):                  0.000   Jarque-Bera (JB):            60260.647\n",
              "Skew:                          -1.092   Prob(JB):                         0.00\n",
              "Kurtosis:                      36.054   Cond. No.                     2.33e+18\n",
              "==============================================================================\n",
              "\n",
              "Warnings:\n",
              "[1] Standard Errors assume that the covariance matrix of the errors is correctly specified.\n",
              "[2] The smallest eigenvalue is 9.48e-28. This might indicate that there are\n",
              "strong multicollinearity problems or that the design matrix is singular.\n",
              "\"\"\""
            ]
          },
          "metadata": {
            "tags": []
          },
          "execution_count": 15
        }
      ]
    },
    {
      "cell_type": "markdown",
      "metadata": {
        "id": "ypxT_QrrPshb",
        "colab_type": "text"
      },
      "source": [
        "This model improved only on f statistic but was not performing better in terms of r-squared and r-adjusted, or BIC/AIC."
      ]
    },
    {
      "cell_type": "markdown",
      "metadata": {
        "id": "EqjfPxYUQ4mn",
        "colab_type": "text"
      },
      "source": [
        "I think the 2nd model is a satisfactory model because it explains 77% of the variance. If we get much higher than this, we run the risk of overfitting. "
      ]
    }
  ]
}