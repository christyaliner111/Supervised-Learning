{
  "nbformat": 4,
  "nbformat_minor": 0,
  "metadata": {
    "colab": {
      "name": "Evaluating Performance Assignment 1",
      "provenance": []
    },
    "kernelspec": {
      "name": "python3",
      "display_name": "Python 3"
    }
  },
  "cells": [
    {
      "cell_type": "markdown",
      "metadata": {
        "id": "tu0RrTAYR9gI",
        "colab_type": "text"
      },
      "source": [
        "## Imports and Data Creation\n",
        "\n"
      ]
    },
    {
      "cell_type": "code",
      "metadata": {
        "id": "3ZOgL8ZhR5iO",
        "colab_type": "code",
        "colab": {}
      },
      "source": [
        "#Arrays and Dataframe\n",
        "import numpy as np\n",
        "import pandas as pd\n",
        "\n",
        "#SQL\n",
        "from sqlalchemy import create_engine\n",
        "\n",
        "#Visualization\n",
        "from matplotlib import pyplot as plt\n",
        "import seaborn as sns\n",
        "sns.set()\n",
        "\n",
        "#Data Exploration\n",
        "from scipy import stats\n",
        "\n",
        "#Data Modeling\n",
        "from sklearn import linear_model\n",
        "from sklearn.svm import LinearSVC\n",
        "import statsmodels.api as sm\n",
        "\n",
        "#Model Evaluation\n",
        "from statsmodels.stats.outliers_influence import variance_inflation_factor \n",
        "from statsmodels.tools.tools import add_constant\n",
        "from statsmodels.tsa.stattools import acf\n",
        "from scipy.stats import jarque_bera\n",
        "from scipy.stats import normaltest"
      ],
      "execution_count": 0,
      "outputs": []
    },
    {
      "cell_type": "code",
      "metadata": {
        "id": "T1Bu4j4uR-VB",
        "colab_type": "code",
        "colab": {
          "base_uri": "https://localhost:8080/",
          "height": 72
        },
        "outputId": "f05ef795-b6b1-4485-e831-ffc870c06074"
      },
      "source": [
        "postgres_user = 'dsbc_student'\n",
        "postgres_pw = '7*.8G9QH21'\n",
        "postgres_host = '142.93.121.174'\n",
        "postgres_port = '5432'\n",
        "postgres_db = 'weatherinszeged'\n",
        "\n",
        "engine = create_engine('postgresql://{}:{}@{}:{}/{}'.format(\n",
        "    postgres_user, postgres_pw, postgres_host, postgres_port, postgres_db))\n",
        "\n",
        "df = pd.read_sql_query('select * from weatherinszeged', con=engine)\n",
        "\n",
        "# no need for an open connection, as we're only doing a single query\n",
        "engine.dispose()"
      ],
      "execution_count": 2,
      "outputs": [
        {
          "output_type": "stream",
          "text": [
            "/usr/local/lib/python3.6/dist-packages/psycopg2/__init__.py:144: UserWarning: The psycopg2 wheel package will be renamed from release 2.8; in order to keep installing from binary please use \"pip install psycopg2-binary\" instead. For details see: <http://initd.org/psycopg/docs/install.html#binary-install-from-pypi>.\n",
            "  \"\"\")\n"
          ],
          "name": "stderr"
        }
      ]
    },
    {
      "cell_type": "markdown",
      "metadata": {
        "id": "JvgcT7MWDHl4",
        "colab_type": "text"
      },
      "source": [
        "## Linear Regression Model"
      ]
    },
    {
      "cell_type": "markdown",
      "metadata": {
        "id": "wPAb8VXmKRAh",
        "colab_type": "text"
      },
      "source": [
        "### Review R-squared and R"
      ]
    },
    {
      "cell_type": "code",
      "metadata": {
        "id": "cKgFjWVkDG_4",
        "colab_type": "code",
        "colab": {}
      },
      "source": [
        "#create new variable\n",
        "df['temp_diff'] = df.apparenttemperature - df.temperature\n",
        "y = df['temp_diff']\n",
        "X = df[['humidity', 'windspeed']]"
      ],
      "execution_count": 0,
      "outputs": []
    },
    {
      "cell_type": "code",
      "metadata": {
        "id": "naHjLSmpR-Yo",
        "colab_type": "code",
        "outputId": "8888d3de-c5e3-490e-f080-934eec6bcc75",
        "colab": {
          "base_uri": "https://localhost:8080/",
          "height": 516
        }
      },
      "source": [
        "#Linear Regression using stats model\n",
        "# We need to manually add a constant\n",
        "# in statsmodels' sm\n",
        "X = sm.add_constant(X)\n",
        "\n",
        "results = sm.OLS(y, X).fit()\n",
        "\n",
        "results.summary()"
      ],
      "execution_count": 4,
      "outputs": [
        {
          "output_type": "stream",
          "text": [
            "/usr/local/lib/python3.6/dist-packages/numpy/core/fromnumeric.py:2495: FutureWarning: Method .ptp is deprecated and will be removed in a future version. Use numpy.ptp instead.\n",
            "  return ptp(axis=axis, out=out, **kwargs)\n"
          ],
          "name": "stderr"
        },
        {
          "output_type": "execute_result",
          "data": {
            "text/html": [
              "<table class=\"simpletable\">\n",
              "<caption>OLS Regression Results</caption>\n",
              "<tr>\n",
              "  <th>Dep. Variable:</th>        <td>temp_diff</td>    <th>  R-squared:         </th>  <td>   0.288</td>  \n",
              "</tr>\n",
              "<tr>\n",
              "  <th>Model:</th>                   <td>OLS</td>       <th>  Adj. R-squared:    </th>  <td>   0.288</td>  \n",
              "</tr>\n",
              "<tr>\n",
              "  <th>Method:</th>             <td>Least Squares</td>  <th>  F-statistic:       </th>  <td>1.949e+04</td> \n",
              "</tr>\n",
              "<tr>\n",
              "  <th>Date:</th>             <td>Tue, 05 Nov 2019</td> <th>  Prob (F-statistic):</th>   <td>  0.00</td>   \n",
              "</tr>\n",
              "<tr>\n",
              "  <th>Time:</th>                 <td>19:59:28</td>     <th>  Log-Likelihood:    </th> <td>-1.7046e+05</td>\n",
              "</tr>\n",
              "<tr>\n",
              "  <th>No. Observations:</th>      <td> 96453</td>      <th>  AIC:               </th>  <td>3.409e+05</td> \n",
              "</tr>\n",
              "<tr>\n",
              "  <th>Df Residuals:</th>          <td> 96450</td>      <th>  BIC:               </th>  <td>3.409e+05</td> \n",
              "</tr>\n",
              "<tr>\n",
              "  <th>Df Model:</th>              <td>     2</td>      <th>                     </th>      <td> </td>     \n",
              "</tr>\n",
              "<tr>\n",
              "  <th>Covariance Type:</th>      <td>nonrobust</td>    <th>                     </th>      <td> </td>     \n",
              "</tr>\n",
              "</table>\n",
              "<table class=\"simpletable\">\n",
              "<tr>\n",
              "      <td></td>         <th>coef</th>     <th>std err</th>      <th>t</th>      <th>P>|t|</th>  <th>[0.025</th>    <th>0.975]</th>  \n",
              "</tr>\n",
              "<tr>\n",
              "  <th>const</th>     <td>    2.4381</td> <td>    0.021</td> <td>  115.948</td> <td> 0.000</td> <td>    2.397</td> <td>    2.479</td>\n",
              "</tr>\n",
              "<tr>\n",
              "  <th>humidity</th>  <td>   -3.0292</td> <td>    0.024</td> <td> -126.479</td> <td> 0.000</td> <td>   -3.076</td> <td>   -2.982</td>\n",
              "</tr>\n",
              "<tr>\n",
              "  <th>windspeed</th> <td>   -0.1193</td> <td>    0.001</td> <td> -176.164</td> <td> 0.000</td> <td>   -0.121</td> <td>   -0.118</td>\n",
              "</tr>\n",
              "</table>\n",
              "<table class=\"simpletable\">\n",
              "<tr>\n",
              "  <th>Omnibus:</th>       <td>3935.747</td> <th>  Durbin-Watson:     </th> <td>   0.267</td>\n",
              "</tr>\n",
              "<tr>\n",
              "  <th>Prob(Omnibus):</th>  <td> 0.000</td>  <th>  Jarque-Bera (JB):  </th> <td>4613.311</td>\n",
              "</tr>\n",
              "<tr>\n",
              "  <th>Skew:</th>           <td>-0.478</td>  <th>  Prob(JB):          </th> <td>    0.00</td>\n",
              "</tr>\n",
              "<tr>\n",
              "  <th>Kurtosis:</th>       <td> 3.484</td>  <th>  Cond. No.          </th> <td>    88.1</td>\n",
              "</tr>\n",
              "</table><br/><br/>Warnings:<br/>[1] Standard Errors assume that the covariance matrix of the errors is correctly specified."
            ],
            "text/plain": [
              "<class 'statsmodels.iolib.summary.Summary'>\n",
              "\"\"\"\n",
              "                            OLS Regression Results                            \n",
              "==============================================================================\n",
              "Dep. Variable:              temp_diff   R-squared:                       0.288\n",
              "Model:                            OLS   Adj. R-squared:                  0.288\n",
              "Method:                 Least Squares   F-statistic:                 1.949e+04\n",
              "Date:                Tue, 05 Nov 2019   Prob (F-statistic):               0.00\n",
              "Time:                        19:59:28   Log-Likelihood:            -1.7046e+05\n",
              "No. Observations:               96453   AIC:                         3.409e+05\n",
              "Df Residuals:                   96450   BIC:                         3.409e+05\n",
              "Df Model:                           2                                         \n",
              "Covariance Type:            nonrobust                                         \n",
              "==============================================================================\n",
              "                 coef    std err          t      P>|t|      [0.025      0.975]\n",
              "------------------------------------------------------------------------------\n",
              "const          2.4381      0.021    115.948      0.000       2.397       2.479\n",
              "humidity      -3.0292      0.024   -126.479      0.000      -3.076      -2.982\n",
              "windspeed     -0.1193      0.001   -176.164      0.000      -0.121      -0.118\n",
              "==============================================================================\n",
              "Omnibus:                     3935.747   Durbin-Watson:                   0.267\n",
              "Prob(Omnibus):                  0.000   Jarque-Bera (JB):             4613.311\n",
              "Skew:                          -0.478   Prob(JB):                         0.00\n",
              "Kurtosis:                       3.484   Cond. No.                         88.1\n",
              "==============================================================================\n",
              "\n",
              "Warnings:\n",
              "[1] Standard Errors assume that the covariance matrix of the errors is correctly specified.\n",
              "\"\"\""
            ]
          },
          "metadata": {
            "tags": []
          },
          "execution_count": 4
        }
      ]
    },
    {
      "cell_type": "markdown",
      "metadata": {
        "id": "w_wCGibQJz3v",
        "colab_type": "text"
      },
      "source": [
        "Both R-squared and adjusted R-squared values are .288\n",
        "\n",
        "This means that 28.8% of the variance in temp_difference can be explained by humidity and windspeed. "
      ]
    },
    {
      "cell_type": "markdown",
      "metadata": {
        "id": "Kymx9KZXKPMi",
        "colab_type": "text"
      },
      "source": [
        "### Create interaction between humidity and windspeed"
      ]
    },
    {
      "cell_type": "code",
      "metadata": {
        "id": "OLQValOwKOV7",
        "colab_type": "code",
        "colab": {}
      },
      "source": [
        "#create new variable\n",
        "df['hum_wind'] = df.humidity * df.windspeed"
      ],
      "execution_count": 0,
      "outputs": []
    },
    {
      "cell_type": "code",
      "metadata": {
        "id": "AuYU7KLuKtoP",
        "colab_type": "code",
        "colab": {}
      },
      "source": [
        "y = df['temp_diff']\n",
        "X1 = df[['humidity', 'windspeed', 'hum_wind']]"
      ],
      "execution_count": 0,
      "outputs": []
    },
    {
      "cell_type": "code",
      "metadata": {
        "id": "7e435YodK3tD",
        "colab_type": "code",
        "colab": {
          "base_uri": "https://localhost:8080/",
          "height": 537
        },
        "outputId": "dede9358-db73-4c27-e0d9-06ba2a24d54d"
      },
      "source": [
        "X1 = sm.add_constant(X1)\n",
        "\n",
        "results1 = sm.OLS(y, X1).fit()\n",
        "\n",
        "results1.summary()"
      ],
      "execution_count": 9,
      "outputs": [
        {
          "output_type": "stream",
          "text": [
            "/usr/local/lib/python3.6/dist-packages/numpy/core/fromnumeric.py:2495: FutureWarning: Method .ptp is deprecated and will be removed in a future version. Use numpy.ptp instead.\n",
            "  return ptp(axis=axis, out=out, **kwargs)\n"
          ],
          "name": "stderr"
        },
        {
          "output_type": "execute_result",
          "data": {
            "text/html": [
              "<table class=\"simpletable\">\n",
              "<caption>OLS Regression Results</caption>\n",
              "<tr>\n",
              "  <th>Dep. Variable:</th>        <td>temp_diff</td>    <th>  R-squared:         </th>  <td>   0.341</td>  \n",
              "</tr>\n",
              "<tr>\n",
              "  <th>Model:</th>                   <td>OLS</td>       <th>  Adj. R-squared:    </th>  <td>   0.341</td>  \n",
              "</tr>\n",
              "<tr>\n",
              "  <th>Method:</th>             <td>Least Squares</td>  <th>  F-statistic:       </th>  <td>1.666e+04</td> \n",
              "</tr>\n",
              "<tr>\n",
              "  <th>Date:</th>             <td>Tue, 05 Nov 2019</td> <th>  Prob (F-statistic):</th>   <td>  0.00</td>   \n",
              "</tr>\n",
              "<tr>\n",
              "  <th>Time:</th>                 <td>20:06:03</td>     <th>  Log-Likelihood:    </th> <td>-1.6669e+05</td>\n",
              "</tr>\n",
              "<tr>\n",
              "  <th>No. Observations:</th>      <td> 96453</td>      <th>  AIC:               </th>  <td>3.334e+05</td> \n",
              "</tr>\n",
              "<tr>\n",
              "  <th>Df Residuals:</th>          <td> 96449</td>      <th>  BIC:               </th>  <td>3.334e+05</td> \n",
              "</tr>\n",
              "<tr>\n",
              "  <th>Df Model:</th>              <td>     3</td>      <th>                     </th>      <td> </td>     \n",
              "</tr>\n",
              "<tr>\n",
              "  <th>Covariance Type:</th>      <td>nonrobust</td>    <th>                     </th>      <td> </td>     \n",
              "</tr>\n",
              "</table>\n",
              "<table class=\"simpletable\">\n",
              "<tr>\n",
              "      <td></td>         <th>coef</th>     <th>std err</th>      <th>t</th>      <th>P>|t|</th>  <th>[0.025</th>    <th>0.975]</th>  \n",
              "</tr>\n",
              "<tr>\n",
              "  <th>const</th>     <td>    0.0839</td> <td>    0.033</td> <td>    2.511</td> <td> 0.012</td> <td>    0.018</td> <td>    0.149</td>\n",
              "</tr>\n",
              "<tr>\n",
              "  <th>humidity</th>  <td>    0.1775</td> <td>    0.043</td> <td>    4.133</td> <td> 0.000</td> <td>    0.093</td> <td>    0.262</td>\n",
              "</tr>\n",
              "<tr>\n",
              "  <th>windspeed</th> <td>    0.0905</td> <td>    0.002</td> <td>   36.797</td> <td> 0.000</td> <td>    0.086</td> <td>    0.095</td>\n",
              "</tr>\n",
              "<tr>\n",
              "  <th>hum_wind</th>  <td>   -0.2971</td> <td>    0.003</td> <td>  -88.470</td> <td> 0.000</td> <td>   -0.304</td> <td>   -0.291</td>\n",
              "</tr>\n",
              "</table>\n",
              "<table class=\"simpletable\">\n",
              "<tr>\n",
              "  <th>Omnibus:</th>       <td>4849.937</td> <th>  Durbin-Watson:     </th> <td>   0.265</td>\n",
              "</tr>\n",
              "<tr>\n",
              "  <th>Prob(Omnibus):</th>  <td> 0.000</td>  <th>  Jarque-Bera (JB):  </th> <td>9295.404</td>\n",
              "</tr>\n",
              "<tr>\n",
              "  <th>Skew:</th>           <td>-0.378</td>  <th>  Prob(JB):          </th> <td>    0.00</td>\n",
              "</tr>\n",
              "<tr>\n",
              "  <th>Kurtosis:</th>       <td> 4.320</td>  <th>  Cond. No.          </th> <td>    193.</td>\n",
              "</tr>\n",
              "</table><br/><br/>Warnings:<br/>[1] Standard Errors assume that the covariance matrix of the errors is correctly specified."
            ],
            "text/plain": [
              "<class 'statsmodels.iolib.summary.Summary'>\n",
              "\"\"\"\n",
              "                            OLS Regression Results                            \n",
              "==============================================================================\n",
              "Dep. Variable:              temp_diff   R-squared:                       0.341\n",
              "Model:                            OLS   Adj. R-squared:                  0.341\n",
              "Method:                 Least Squares   F-statistic:                 1.666e+04\n",
              "Date:                Tue, 05 Nov 2019   Prob (F-statistic):               0.00\n",
              "Time:                        20:06:03   Log-Likelihood:            -1.6669e+05\n",
              "No. Observations:               96453   AIC:                         3.334e+05\n",
              "Df Residuals:                   96449   BIC:                         3.334e+05\n",
              "Df Model:                           3                                         \n",
              "Covariance Type:            nonrobust                                         \n",
              "==============================================================================\n",
              "                 coef    std err          t      P>|t|      [0.025      0.975]\n",
              "------------------------------------------------------------------------------\n",
              "const          0.0839      0.033      2.511      0.012       0.018       0.149\n",
              "humidity       0.1775      0.043      4.133      0.000       0.093       0.262\n",
              "windspeed      0.0905      0.002     36.797      0.000       0.086       0.095\n",
              "hum_wind      -0.2971      0.003    -88.470      0.000      -0.304      -0.291\n",
              "==============================================================================\n",
              "Omnibus:                     4849.937   Durbin-Watson:                   0.265\n",
              "Prob(Omnibus):                  0.000   Jarque-Bera (JB):             9295.404\n",
              "Skew:                          -0.378   Prob(JB):                         0.00\n",
              "Kurtosis:                       4.320   Cond. No.                         193.\n",
              "==============================================================================\n",
              "\n",
              "Warnings:\n",
              "[1] Standard Errors assume that the covariance matrix of the errors is correctly specified.\n",
              "\"\"\""
            ]
          },
          "metadata": {
            "tags": []
          },
          "execution_count": 9
        }
      ]
    },
    {
      "cell_type": "markdown",
      "metadata": {
        "id": "4npaR-PoLRiZ",
        "colab_type": "text"
      },
      "source": [
        "The R-squared and R-adjusted both improved to 34.1%, which is an improvement from the previous model. "
      ]
    },
    {
      "cell_type": "markdown",
      "metadata": {
        "id": "0jyGzOLwLd6l",
        "colab_type": "text"
      },
      "source": [
        "### Add Visibility"
      ]
    },
    {
      "cell_type": "code",
      "metadata": {
        "id": "o_HLzoxPK6F2",
        "colab_type": "code",
        "colab": {}
      },
      "source": [
        "y = df['temp_diff']\n",
        "X2 = df[['humidity', 'windspeed', 'visibility']]"
      ],
      "execution_count": 0,
      "outputs": []
    },
    {
      "cell_type": "code",
      "metadata": {
        "id": "JOjf_SKVLn38",
        "colab_type": "code",
        "colab": {
          "base_uri": "https://localhost:8080/",
          "height": 537
        },
        "outputId": "0745998f-9e8f-4b05-d3b4-28eac88a0e94"
      },
      "source": [
        "#Linear Regression using stats model\n",
        "# We need to manually add a constant\n",
        "# in statsmodels' sm\n",
        "X2 = sm.add_constant(X2)\n",
        "\n",
        "results2 = sm.OLS(y, X2).fit()\n",
        "\n",
        "results2.summary()"
      ],
      "execution_count": 12,
      "outputs": [
        {
          "output_type": "stream",
          "text": [
            "/usr/local/lib/python3.6/dist-packages/numpy/core/fromnumeric.py:2495: FutureWarning: Method .ptp is deprecated and will be removed in a future version. Use numpy.ptp instead.\n",
            "  return ptp(axis=axis, out=out, **kwargs)\n"
          ],
          "name": "stderr"
        },
        {
          "output_type": "execute_result",
          "data": {
            "text/html": [
              "<table class=\"simpletable\">\n",
              "<caption>OLS Regression Results</caption>\n",
              "<tr>\n",
              "  <th>Dep. Variable:</th>        <td>temp_diff</td>    <th>  R-squared:         </th>  <td>   0.304</td>  \n",
              "</tr>\n",
              "<tr>\n",
              "  <th>Model:</th>                   <td>OLS</td>       <th>  Adj. R-squared:    </th>  <td>   0.303</td>  \n",
              "</tr>\n",
              "<tr>\n",
              "  <th>Method:</th>             <td>Least Squares</td>  <th>  F-statistic:       </th>  <td>1.401e+04</td> \n",
              "</tr>\n",
              "<tr>\n",
              "  <th>Date:</th>             <td>Tue, 05 Nov 2019</td> <th>  Prob (F-statistic):</th>   <td>  0.00</td>   \n",
              "</tr>\n",
              "<tr>\n",
              "  <th>Time:</th>                 <td>20:09:21</td>     <th>  Log-Likelihood:    </th> <td>-1.6938e+05</td>\n",
              "</tr>\n",
              "<tr>\n",
              "  <th>No. Observations:</th>      <td> 96453</td>      <th>  AIC:               </th>  <td>3.388e+05</td> \n",
              "</tr>\n",
              "<tr>\n",
              "  <th>Df Residuals:</th>          <td> 96449</td>      <th>  BIC:               </th>  <td>3.388e+05</td> \n",
              "</tr>\n",
              "<tr>\n",
              "  <th>Df Model:</th>              <td>     3</td>      <th>                     </th>      <td> </td>     \n",
              "</tr>\n",
              "<tr>\n",
              "  <th>Covariance Type:</th>      <td>nonrobust</td>    <th>                     </th>      <td> </td>     \n",
              "</tr>\n",
              "</table>\n",
              "<table class=\"simpletable\">\n",
              "<tr>\n",
              "       <td></td>         <th>coef</th>     <th>std err</th>      <th>t</th>      <th>P>|t|</th>  <th>[0.025</th>    <th>0.975]</th>  \n",
              "</tr>\n",
              "<tr>\n",
              "  <th>const</th>      <td>    1.5756</td> <td>    0.028</td> <td>   56.605</td> <td> 0.000</td> <td>    1.521</td> <td>    1.630</td>\n",
              "</tr>\n",
              "<tr>\n",
              "  <th>humidity</th>   <td>   -2.6066</td> <td>    0.025</td> <td> -102.784</td> <td> 0.000</td> <td>   -2.656</td> <td>   -2.557</td>\n",
              "</tr>\n",
              "<tr>\n",
              "  <th>windspeed</th>  <td>   -0.1199</td> <td>    0.001</td> <td> -179.014</td> <td> 0.000</td> <td>   -0.121</td> <td>   -0.119</td>\n",
              "</tr>\n",
              "<tr>\n",
              "  <th>visibility</th> <td>    0.0540</td> <td>    0.001</td> <td>   46.614</td> <td> 0.000</td> <td>    0.052</td> <td>    0.056</td>\n",
              "</tr>\n",
              "</table>\n",
              "<table class=\"simpletable\">\n",
              "<tr>\n",
              "  <th>Omnibus:</th>       <td>3833.895</td> <th>  Durbin-Watson:     </th> <td>   0.282</td>\n",
              "</tr>\n",
              "<tr>\n",
              "  <th>Prob(Omnibus):</th>  <td> 0.000</td>  <th>  Jarque-Bera (JB):  </th> <td>4584.022</td>\n",
              "</tr>\n",
              "<tr>\n",
              "  <th>Skew:</th>           <td>-0.459</td>  <th>  Prob(JB):          </th> <td>    0.00</td>\n",
              "</tr>\n",
              "<tr>\n",
              "  <th>Kurtosis:</th>       <td> 3.545</td>  <th>  Cond. No.          </th> <td>    131.</td>\n",
              "</tr>\n",
              "</table><br/><br/>Warnings:<br/>[1] Standard Errors assume that the covariance matrix of the errors is correctly specified."
            ],
            "text/plain": [
              "<class 'statsmodels.iolib.summary.Summary'>\n",
              "\"\"\"\n",
              "                            OLS Regression Results                            \n",
              "==============================================================================\n",
              "Dep. Variable:              temp_diff   R-squared:                       0.304\n",
              "Model:                            OLS   Adj. R-squared:                  0.303\n",
              "Method:                 Least Squares   F-statistic:                 1.401e+04\n",
              "Date:                Tue, 05 Nov 2019   Prob (F-statistic):               0.00\n",
              "Time:                        20:09:21   Log-Likelihood:            -1.6938e+05\n",
              "No. Observations:               96453   AIC:                         3.388e+05\n",
              "Df Residuals:                   96449   BIC:                         3.388e+05\n",
              "Df Model:                           3                                         \n",
              "Covariance Type:            nonrobust                                         \n",
              "==============================================================================\n",
              "                 coef    std err          t      P>|t|      [0.025      0.975]\n",
              "------------------------------------------------------------------------------\n",
              "const          1.5756      0.028     56.605      0.000       1.521       1.630\n",
              "humidity      -2.6066      0.025   -102.784      0.000      -2.656      -2.557\n",
              "windspeed     -0.1199      0.001   -179.014      0.000      -0.121      -0.119\n",
              "visibility     0.0540      0.001     46.614      0.000       0.052       0.056\n",
              "==============================================================================\n",
              "Omnibus:                     3833.895   Durbin-Watson:                   0.282\n",
              "Prob(Omnibus):                  0.000   Jarque-Bera (JB):             4584.022\n",
              "Skew:                          -0.459   Prob(JB):                         0.00\n",
              "Kurtosis:                       3.545   Cond. No.                         131.\n",
              "==============================================================================\n",
              "\n",
              "Warnings:\n",
              "[1] Standard Errors assume that the covariance matrix of the errors is correctly specified.\n",
              "\"\"\""
            ]
          },
          "metadata": {
            "tags": []
          },
          "execution_count": 12
        }
      ]
    },
    {
      "cell_type": "markdown",
      "metadata": {
        "id": "hCGPJ8CtL855",
        "colab_type": "text"
      },
      "source": [
        "The R-squared went down slightly from the model with the interaction term. hum_wind is more useful. "
      ]
    },
    {
      "cell_type": "markdown",
      "metadata": {
        "id": "tjpIn1-JMNbu",
        "colab_type": "text"
      },
      "source": [
        "### AIC and BIC"
      ]
    },
    {
      "cell_type": "markdown",
      "metadata": {
        "id": "Bymob5UTLbFO",
        "colab_type": "text"
      },
      "source": [
        "The model with the interaction term hum_wind has the lowest AIC and BIC score, as well as the highest F-statistic. "
      ]
    }
  ]
}