{
  "nbformat": 4,
  "nbformat_minor": 0,
  "metadata": {
    "colab": {
      "name": "Making Predictions Assignment.ipynb",
      "provenance": []
    },
    "kernelspec": {
      "name": "python3",
      "display_name": "Python 3"
    }
  },
  "cells": [
    {
      "cell_type": "markdown",
      "metadata": {
        "id": "akZq1iDiNqef",
        "colab_type": "text"
      },
      "source": [
        "# Import DataFrame and Prep Model"
      ]
    },
    {
      "cell_type": "code",
      "metadata": {
        "id": "G5_tp6WENv_K",
        "colab_type": "code",
        "colab": {}
      },
      "source": [
        "#Arrays and Dataframe\n",
        "import numpy as np\n",
        "import pandas as pd\n",
        "\n",
        "#SQL\n",
        "from sqlalchemy import create_engine\n",
        "\n",
        "#Visualization\n",
        "from matplotlib import pyplot as plt\n",
        "import seaborn as sns\n",
        "sns.set()\n",
        "\n",
        "#Data Exploration\n",
        "from scipy import stats\n",
        "\n",
        "#Data Modeling\n",
        "from sklearn import linear_model\n",
        "from sklearn.svm import LinearSVC\n",
        "import statsmodels.api as sm\n",
        "from sklearn.model_selection import train_test_split\n",
        "from statsmodels.stats.outliers_influence import variance_inflation_factor \n",
        "from statsmodels.tools.tools import add_constant\n",
        "\n",
        "from statsmodels.tsa.stattools import acf\n",
        "\n",
        "from scipy.stats import jarque_bera\n",
        "from scipy.stats import normaltest"
      ],
      "execution_count": 0,
      "outputs": []
    },
    {
      "cell_type": "code",
      "metadata": {
        "id": "_BM1tu4YNZwJ",
        "colab_type": "code",
        "colab": {}
      },
      "source": [
        "#Make SQL Queary\n",
        "postgres_user = 'dsbc_student'\n",
        "postgres_pw = '7*.8G9QH21'\n",
        "postgres_host = '142.93.121.174'\n",
        "postgres_port = '5432'\n",
        "postgres_db = 'houseprices'\n",
        "\n",
        "engine = create_engine('postgresql://{}:{}@{}:{}/{}'.format(\n",
        "    postgres_user, postgres_pw, postgres_host, postgres_port, postgres_db))\n",
        "\n",
        "df = pd.read_sql_query('select * from houseprices',con=engine)\n",
        "\n",
        "# no need for an open connection, as we're only doing a single query\n",
        "engine.dispose()"
      ],
      "execution_count": 0,
      "outputs": []
    },
    {
      "cell_type": "code",
      "metadata": {
        "id": "51zawGLENcbI",
        "colab_type": "code",
        "colab": {}
      },
      "source": [
        "#Drop columns that have a large number of null values (over 30%)\n",
        "df1 = df.drop(columns = ['alley', 'fireplacequ', 'poolqc', 'fence', 'miscfeature'])"
      ],
      "execution_count": 0,
      "outputs": []
    },
    {
      "cell_type": "code",
      "metadata": {
        "id": "LXBT4IPfNeeQ",
        "colab_type": "code",
        "colab": {}
      },
      "source": [
        "#make a copy of df1\n",
        "df2 = df1.copy()\n",
        "\n",
        "#interpolate based on the year\n",
        "year_list = list(df1['yearbuilt'].unique())\n",
        "for year in year_list:\n",
        "    df2.loc[df1['yearbuilt']==year] = df2.loc[df1['yearbuilt']==year].interpolate()\n",
        "\n",
        "# drop missing values that are remaining\n",
        "df2.dropna(inplace = True)"
      ],
      "execution_count": 0,
      "outputs": []
    },
    {
      "cell_type": "code",
      "metadata": {
        "id": "cezxOGpyNfoY",
        "colab_type": "code",
        "colab": {}
      },
      "source": [
        "#update data types\n",
        "non_numeric = df1.select_dtypes(include = 'object')\n",
        "numeric = df1.select_dtypes(include = ['float64', 'int64'])\n"
      ],
      "execution_count": 0,
      "outputs": []
    },
    {
      "cell_type": "code",
      "metadata": {
        "id": "E4xmQEb3NhiH",
        "colab_type": "code",
        "colab": {}
      },
      "source": [
        "#pick top 5 numeric:\n",
        "df3 = df2.loc[:, ['overallqual', 'grlivarea', 'garagecars', 'garagearea', 'totalbsmtsf', 'saleprice']]"
      ],
      "execution_count": 0,
      "outputs": []
    },
    {
      "cell_type": "code",
      "metadata": {
        "id": "tU1fuAPmNhkr",
        "colab_type": "code",
        "colab": {}
      },
      "source": [
        "#Choose Central Air and External Quality as the features I'll use for the model\n",
        "df4 = df2.loc[:, ['exterqual', 'centralair', 'mszoning']]\n",
        "\n",
        "#One Hot encoding of categorical variables\n",
        "df5 = pd.get_dummies(df4, columns = ['exterqual', 'centralair', 'mszoning'])\n"
      ],
      "execution_count": 0,
      "outputs": []
    },
    {
      "cell_type": "code",
      "metadata": {
        "id": "BcT9rJvzNhnN",
        "colab_type": "code",
        "colab": {
          "base_uri": "https://localhost:8080/",
          "height": 453
        },
        "outputId": "5b81c45c-2740-4f65-87ac-d1c8b94bb2f7"
      },
      "source": [
        "#Combine Dataframes\n",
        "df3\n",
        "df5\n",
        "model_df = pd.concat([df3, df5], axis = 1)\n",
        "df5"
      ],
      "execution_count": 63,
      "outputs": [
        {
          "output_type": "execute_result",
          "data": {
            "text/html": [
              "<div>\n",
              "<style scoped>\n",
              "    .dataframe tbody tr th:only-of-type {\n",
              "        vertical-align: middle;\n",
              "    }\n",
              "\n",
              "    .dataframe tbody tr th {\n",
              "        vertical-align: top;\n",
              "    }\n",
              "\n",
              "    .dataframe thead th {\n",
              "        text-align: right;\n",
              "    }\n",
              "</style>\n",
              "<table border=\"1\" class=\"dataframe\">\n",
              "  <thead>\n",
              "    <tr style=\"text-align: right;\">\n",
              "      <th></th>\n",
              "      <th>exterqual_Ex</th>\n",
              "      <th>exterqual_Fa</th>\n",
              "      <th>exterqual_Gd</th>\n",
              "      <th>exterqual_TA</th>\n",
              "      <th>centralair_N</th>\n",
              "      <th>centralair_Y</th>\n",
              "      <th>mszoning_C (all)</th>\n",
              "      <th>mszoning_FV</th>\n",
              "      <th>mszoning_RH</th>\n",
              "      <th>mszoning_RL</th>\n",
              "      <th>mszoning_RM</th>\n",
              "    </tr>\n",
              "  </thead>\n",
              "  <tbody>\n",
              "    <tr>\n",
              "      <th>0</th>\n",
              "      <td>0</td>\n",
              "      <td>0</td>\n",
              "      <td>1</td>\n",
              "      <td>0</td>\n",
              "      <td>0</td>\n",
              "      <td>1</td>\n",
              "      <td>0</td>\n",
              "      <td>0</td>\n",
              "      <td>0</td>\n",
              "      <td>1</td>\n",
              "      <td>0</td>\n",
              "    </tr>\n",
              "    <tr>\n",
              "      <th>1</th>\n",
              "      <td>0</td>\n",
              "      <td>0</td>\n",
              "      <td>0</td>\n",
              "      <td>1</td>\n",
              "      <td>0</td>\n",
              "      <td>1</td>\n",
              "      <td>0</td>\n",
              "      <td>0</td>\n",
              "      <td>0</td>\n",
              "      <td>1</td>\n",
              "      <td>0</td>\n",
              "    </tr>\n",
              "    <tr>\n",
              "      <th>2</th>\n",
              "      <td>0</td>\n",
              "      <td>0</td>\n",
              "      <td>1</td>\n",
              "      <td>0</td>\n",
              "      <td>0</td>\n",
              "      <td>1</td>\n",
              "      <td>0</td>\n",
              "      <td>0</td>\n",
              "      <td>0</td>\n",
              "      <td>1</td>\n",
              "      <td>0</td>\n",
              "    </tr>\n",
              "    <tr>\n",
              "      <th>3</th>\n",
              "      <td>0</td>\n",
              "      <td>0</td>\n",
              "      <td>0</td>\n",
              "      <td>1</td>\n",
              "      <td>0</td>\n",
              "      <td>1</td>\n",
              "      <td>0</td>\n",
              "      <td>0</td>\n",
              "      <td>0</td>\n",
              "      <td>1</td>\n",
              "      <td>0</td>\n",
              "    </tr>\n",
              "    <tr>\n",
              "      <th>4</th>\n",
              "      <td>0</td>\n",
              "      <td>0</td>\n",
              "      <td>1</td>\n",
              "      <td>0</td>\n",
              "      <td>0</td>\n",
              "      <td>1</td>\n",
              "      <td>0</td>\n",
              "      <td>0</td>\n",
              "      <td>0</td>\n",
              "      <td>1</td>\n",
              "      <td>0</td>\n",
              "    </tr>\n",
              "    <tr>\n",
              "      <th>...</th>\n",
              "      <td>...</td>\n",
              "      <td>...</td>\n",
              "      <td>...</td>\n",
              "      <td>...</td>\n",
              "      <td>...</td>\n",
              "      <td>...</td>\n",
              "      <td>...</td>\n",
              "      <td>...</td>\n",
              "      <td>...</td>\n",
              "      <td>...</td>\n",
              "      <td>...</td>\n",
              "    </tr>\n",
              "    <tr>\n",
              "      <th>1455</th>\n",
              "      <td>0</td>\n",
              "      <td>0</td>\n",
              "      <td>0</td>\n",
              "      <td>1</td>\n",
              "      <td>0</td>\n",
              "      <td>1</td>\n",
              "      <td>0</td>\n",
              "      <td>0</td>\n",
              "      <td>0</td>\n",
              "      <td>1</td>\n",
              "      <td>0</td>\n",
              "    </tr>\n",
              "    <tr>\n",
              "      <th>1456</th>\n",
              "      <td>0</td>\n",
              "      <td>0</td>\n",
              "      <td>0</td>\n",
              "      <td>1</td>\n",
              "      <td>0</td>\n",
              "      <td>1</td>\n",
              "      <td>0</td>\n",
              "      <td>0</td>\n",
              "      <td>0</td>\n",
              "      <td>1</td>\n",
              "      <td>0</td>\n",
              "    </tr>\n",
              "    <tr>\n",
              "      <th>1457</th>\n",
              "      <td>1</td>\n",
              "      <td>0</td>\n",
              "      <td>0</td>\n",
              "      <td>0</td>\n",
              "      <td>0</td>\n",
              "      <td>1</td>\n",
              "      <td>0</td>\n",
              "      <td>0</td>\n",
              "      <td>0</td>\n",
              "      <td>1</td>\n",
              "      <td>0</td>\n",
              "    </tr>\n",
              "    <tr>\n",
              "      <th>1458</th>\n",
              "      <td>0</td>\n",
              "      <td>0</td>\n",
              "      <td>0</td>\n",
              "      <td>1</td>\n",
              "      <td>0</td>\n",
              "      <td>1</td>\n",
              "      <td>0</td>\n",
              "      <td>0</td>\n",
              "      <td>0</td>\n",
              "      <td>1</td>\n",
              "      <td>0</td>\n",
              "    </tr>\n",
              "    <tr>\n",
              "      <th>1459</th>\n",
              "      <td>0</td>\n",
              "      <td>0</td>\n",
              "      <td>1</td>\n",
              "      <td>0</td>\n",
              "      <td>0</td>\n",
              "      <td>1</td>\n",
              "      <td>0</td>\n",
              "      <td>0</td>\n",
              "      <td>0</td>\n",
              "      <td>1</td>\n",
              "      <td>0</td>\n",
              "    </tr>\n",
              "  </tbody>\n",
              "</table>\n",
              "<p>1318 rows × 11 columns</p>\n",
              "</div>"
            ],
            "text/plain": [
              "      exterqual_Ex  exterqual_Fa  ...  mszoning_RL  mszoning_RM\n",
              "0                0             0  ...            1            0\n",
              "1                0             0  ...            1            0\n",
              "2                0             0  ...            1            0\n",
              "3                0             0  ...            1            0\n",
              "4                0             0  ...            1            0\n",
              "...            ...           ...  ...          ...          ...\n",
              "1455             0             0  ...            1            0\n",
              "1456             0             0  ...            1            0\n",
              "1457             1             0  ...            1            0\n",
              "1458             0             0  ...            1            0\n",
              "1459             0             0  ...            1            0\n",
              "\n",
              "[1318 rows x 11 columns]"
            ]
          },
          "metadata": {
            "tags": []
          },
          "execution_count": 63
        }
      ]
    },
    {
      "cell_type": "markdown",
      "metadata": {
        "id": "GxRKx37hNlcv",
        "colab_type": "text"
      },
      "source": [
        "# Create Model\n"
      ]
    },
    {
      "cell_type": "markdown",
      "metadata": {
        "id": "0uDEohxTOQiC",
        "colab_type": "text"
      },
      "source": [
        "## Run 1st Model"
      ]
    },
    {
      "cell_type": "code",
      "metadata": {
        "id": "2AiYctHTNhpp",
        "colab_type": "code",
        "colab": {}
      },
      "source": [
        "#Separate target variable from rest of data\n",
        "X = model_df.drop(columns = 'saleprice')\n",
        "y = model_df['saleprice']\n",
        "\n",
        "#split train_test\n",
        "X_train, X_test, y_train, y_test = train_test_split(X, y)"
      ],
      "execution_count": 0,
      "outputs": []
    },
    {
      "cell_type": "code",
      "metadata": {
        "id": "DR2lr30SNhsR",
        "colab_type": "code",
        "outputId": "e49c1c42-4072-4cf9-b04e-0baa06dee3e8",
        "colab": {
          "base_uri": "https://localhost:8080/",
          "height": 840
        }
      },
      "source": [
        "X = sm.add_constant(X)\n",
        "\n",
        "results = sm.OLS(y, X).fit()\n",
        "\n",
        "results.summary()"
      ],
      "execution_count": 53,
      "outputs": [
        {
          "output_type": "stream",
          "text": [
            "/usr/local/lib/python3.6/dist-packages/numpy/core/fromnumeric.py:2495: FutureWarning: Method .ptp is deprecated and will be removed in a future version. Use numpy.ptp instead.\n",
            "  return ptp(axis=axis, out=out, **kwargs)\n"
          ],
          "name": "stderr"
        },
        {
          "output_type": "execute_result",
          "data": {
            "text/html": [
              "<table class=\"simpletable\">\n",
              "<caption>OLS Regression Results</caption>\n",
              "<tr>\n",
              "  <th>Dep. Variable:</th>        <td>saleprice</td>    <th>  R-squared:         </th> <td>   0.780</td> \n",
              "</tr>\n",
              "<tr>\n",
              "  <th>Model:</th>                   <td>OLS</td>       <th>  Adj. R-squared:    </th> <td>   0.778</td> \n",
              "</tr>\n",
              "<tr>\n",
              "  <th>Method:</th>             <td>Least Squares</td>  <th>  F-statistic:       </th> <td>   356.6</td> \n",
              "</tr>\n",
              "<tr>\n",
              "  <th>Date:</th>             <td>Tue, 05 Nov 2019</td> <th>  Prob (F-statistic):</th>  <td>  0.00</td>  \n",
              "</tr>\n",
              "<tr>\n",
              "  <th>Time:</th>                 <td>22:09:23</td>     <th>  Log-Likelihood:    </th> <td> -15740.</td> \n",
              "</tr>\n",
              "<tr>\n",
              "  <th>No. Observations:</th>      <td>  1318</td>      <th>  AIC:               </th> <td>3.151e+04</td>\n",
              "</tr>\n",
              "<tr>\n",
              "  <th>Df Residuals:</th>          <td>  1304</td>      <th>  BIC:               </th> <td>3.158e+04</td>\n",
              "</tr>\n",
              "<tr>\n",
              "  <th>Df Model:</th>              <td>    13</td>      <th>                     </th>     <td> </td>    \n",
              "</tr>\n",
              "<tr>\n",
              "  <th>Covariance Type:</th>      <td>nonrobust</td>    <th>                     </th>     <td> </td>    \n",
              "</tr>\n",
              "</table>\n",
              "<table class=\"simpletable\">\n",
              "<tr>\n",
              "          <td></td>            <th>coef</th>     <th>std err</th>      <th>t</th>      <th>P>|t|</th>  <th>[0.025</th>    <th>0.975]</th>  \n",
              "</tr>\n",
              "<tr>\n",
              "  <th>const</th>            <td>-3.567e+04</td> <td> 4520.804</td> <td>   -7.891</td> <td> 0.000</td> <td>-4.45e+04</td> <td>-2.68e+04</td>\n",
              "</tr>\n",
              "<tr>\n",
              "  <th>overallqual</th>      <td> 1.869e+04</td> <td> 1333.298</td> <td>   14.017</td> <td> 0.000</td> <td> 1.61e+04</td> <td> 2.13e+04</td>\n",
              "</tr>\n",
              "<tr>\n",
              "  <th>grlivarea</th>        <td>   47.5554</td> <td>    2.589</td> <td>   18.366</td> <td> 0.000</td> <td>   42.476</td> <td>   52.635</td>\n",
              "</tr>\n",
              "<tr>\n",
              "  <th>garagecars</th>       <td> 1.597e+04</td> <td> 3122.837</td> <td>    5.113</td> <td> 0.000</td> <td> 9840.567</td> <td> 2.21e+04</td>\n",
              "</tr>\n",
              "<tr>\n",
              "  <th>garagearea</th>       <td>   13.1414</td> <td>   10.473</td> <td>    1.255</td> <td> 0.210</td> <td>   -7.404</td> <td>   33.687</td>\n",
              "</tr>\n",
              "<tr>\n",
              "  <th>totalbsmtsf</th>      <td>   22.4923</td> <td>    3.340</td> <td>    6.735</td> <td> 0.000</td> <td>   15.940</td> <td>   29.044</td>\n",
              "</tr>\n",
              "<tr>\n",
              "  <th>exterqual_Ex</th>     <td> 3.815e+04</td> <td> 6492.987</td> <td>    5.875</td> <td> 0.000</td> <td> 2.54e+04</td> <td> 5.09e+04</td>\n",
              "</tr>\n",
              "<tr>\n",
              "  <th>exterqual_Fa</th>     <td>-3.203e+04</td> <td> 1.16e+04</td> <td>   -2.750</td> <td> 0.006</td> <td>-5.49e+04</td> <td>-9180.004</td>\n",
              "</tr>\n",
              "<tr>\n",
              "  <th>exterqual_Gd</th>     <td>-1.403e+04</td> <td> 4194.266</td> <td>   -3.344</td> <td> 0.001</td> <td>-2.23e+04</td> <td>-5797.302</td>\n",
              "</tr>\n",
              "<tr>\n",
              "  <th>exterqual_TA</th>     <td>-2.777e+04</td> <td> 3786.221</td> <td>   -7.334</td> <td> 0.000</td> <td>-3.52e+04</td> <td>-2.03e+04</td>\n",
              "</tr>\n",
              "<tr>\n",
              "  <th>centralair_N</th>     <td>-2.681e+04</td> <td> 3577.280</td> <td>   -7.493</td> <td> 0.000</td> <td>-3.38e+04</td> <td>-1.98e+04</td>\n",
              "</tr>\n",
              "<tr>\n",
              "  <th>centralair_Y</th>     <td>-8867.3213</td> <td> 3384.677</td> <td>   -2.620</td> <td> 0.009</td> <td>-1.55e+04</td> <td>-2227.313</td>\n",
              "</tr>\n",
              "<tr>\n",
              "  <th>mszoning_C (all)</th> <td> -2.15e+04</td> <td> 1.14e+04</td> <td>   -1.878</td> <td> 0.061</td> <td> -4.4e+04</td> <td>  955.600</td>\n",
              "</tr>\n",
              "<tr>\n",
              "  <th>mszoning_FV</th>      <td>-1501.5578</td> <td> 5600.882</td> <td>   -0.268</td> <td> 0.789</td> <td>-1.25e+04</td> <td> 9486.168</td>\n",
              "</tr>\n",
              "<tr>\n",
              "  <th>mszoning_RH</th>      <td>-5046.5754</td> <td> 9727.162</td> <td>   -0.519</td> <td> 0.604</td> <td>-2.41e+04</td> <td>  1.4e+04</td>\n",
              "</tr>\n",
              "<tr>\n",
              "  <th>mszoning_RL</th>      <td> 4981.9717</td> <td> 4008.779</td> <td>    1.243</td> <td> 0.214</td> <td>-2882.390</td> <td> 1.28e+04</td>\n",
              "</tr>\n",
              "<tr>\n",
              "  <th>mszoning_RM</th>      <td> -1.26e+04</td> <td> 4223.032</td> <td>   -2.984</td> <td> 0.003</td> <td>-2.09e+04</td> <td>-4317.711</td>\n",
              "</tr>\n",
              "</table>\n",
              "<table class=\"simpletable\">\n",
              "<tr>\n",
              "  <th>Omnibus:</th>       <td>549.928</td> <th>  Durbin-Watson:     </th> <td>   1.960</td> \n",
              "</tr>\n",
              "<tr>\n",
              "  <th>Prob(Omnibus):</th> <td> 0.000</td>  <th>  Jarque-Bera (JB):  </th> <td>64374.444</td>\n",
              "</tr>\n",
              "<tr>\n",
              "  <th>Skew:</th>          <td>-0.917</td>  <th>  Prob(JB):          </th> <td>    0.00</td> \n",
              "</tr>\n",
              "<tr>\n",
              "  <th>Kurtosis:</th>      <td>37.189</td>  <th>  Cond. No.          </th> <td>3.14e+19</td> \n",
              "</tr>\n",
              "</table><br/><br/>Warnings:<br/>[1] Standard Errors assume that the covariance matrix of the errors is correctly specified.<br/>[2] The smallest eigenvalue is 5.58e-30. This might indicate that there are<br/>strong multicollinearity problems or that the design matrix is singular."
            ],
            "text/plain": [
              "<class 'statsmodels.iolib.summary.Summary'>\n",
              "\"\"\"\n",
              "                            OLS Regression Results                            \n",
              "==============================================================================\n",
              "Dep. Variable:              saleprice   R-squared:                       0.780\n",
              "Model:                            OLS   Adj. R-squared:                  0.778\n",
              "Method:                 Least Squares   F-statistic:                     356.6\n",
              "Date:                Tue, 05 Nov 2019   Prob (F-statistic):               0.00\n",
              "Time:                        22:09:23   Log-Likelihood:                -15740.\n",
              "No. Observations:                1318   AIC:                         3.151e+04\n",
              "Df Residuals:                    1304   BIC:                         3.158e+04\n",
              "Df Model:                          13                                         \n",
              "Covariance Type:            nonrobust                                         \n",
              "====================================================================================\n",
              "                       coef    std err          t      P>|t|      [0.025      0.975]\n",
              "------------------------------------------------------------------------------------\n",
              "const            -3.567e+04   4520.804     -7.891      0.000   -4.45e+04   -2.68e+04\n",
              "overallqual       1.869e+04   1333.298     14.017      0.000    1.61e+04    2.13e+04\n",
              "grlivarea           47.5554      2.589     18.366      0.000      42.476      52.635\n",
              "garagecars        1.597e+04   3122.837      5.113      0.000    9840.567    2.21e+04\n",
              "garagearea          13.1414     10.473      1.255      0.210      -7.404      33.687\n",
              "totalbsmtsf         22.4923      3.340      6.735      0.000      15.940      29.044\n",
              "exterqual_Ex      3.815e+04   6492.987      5.875      0.000    2.54e+04    5.09e+04\n",
              "exterqual_Fa     -3.203e+04   1.16e+04     -2.750      0.006   -5.49e+04   -9180.004\n",
              "exterqual_Gd     -1.403e+04   4194.266     -3.344      0.001   -2.23e+04   -5797.302\n",
              "exterqual_TA     -2.777e+04   3786.221     -7.334      0.000   -3.52e+04   -2.03e+04\n",
              "centralair_N     -2.681e+04   3577.280     -7.493      0.000   -3.38e+04   -1.98e+04\n",
              "centralair_Y     -8867.3213   3384.677     -2.620      0.009   -1.55e+04   -2227.313\n",
              "mszoning_C (all)  -2.15e+04   1.14e+04     -1.878      0.061    -4.4e+04     955.600\n",
              "mszoning_FV      -1501.5578   5600.882     -0.268      0.789   -1.25e+04    9486.168\n",
              "mszoning_RH      -5046.5754   9727.162     -0.519      0.604   -2.41e+04     1.4e+04\n",
              "mszoning_RL       4981.9717   4008.779      1.243      0.214   -2882.390    1.28e+04\n",
              "mszoning_RM       -1.26e+04   4223.032     -2.984      0.003   -2.09e+04   -4317.711\n",
              "==============================================================================\n",
              "Omnibus:                      549.928   Durbin-Watson:                   1.960\n",
              "Prob(Omnibus):                  0.000   Jarque-Bera (JB):            64374.444\n",
              "Skew:                          -0.917   Prob(JB):                         0.00\n",
              "Kurtosis:                      37.189   Cond. No.                     3.14e+19\n",
              "==============================================================================\n",
              "\n",
              "Warnings:\n",
              "[1] Standard Errors assume that the covariance matrix of the errors is correctly specified.\n",
              "[2] The smallest eigenvalue is 5.58e-30. This might indicate that there are\n",
              "strong multicollinearity problems or that the design matrix is singular.\n",
              "\"\"\""
            ]
          },
          "metadata": {
            "tags": []
          },
          "execution_count": 53
        }
      ]
    },
    {
      "cell_type": "markdown",
      "metadata": {
        "id": "lTJLQB_ZN-7b",
        "colab_type": "text"
      },
      "source": [
        "This model has a high F statistic (500). The R-sqared and R-adjusted are around 77%, which means that 77% of the variance can be explained by the current features. The only feauture that seems to be statistically insignificant is garagearea. This will be removed and the model retested. "
      ]
    },
    {
      "cell_type": "markdown",
      "metadata": {
        "id": "019TD5v0OTbX",
        "colab_type": "text"
      },
      "source": [
        "## Run Second Model"
      ]
    },
    {
      "cell_type": "code",
      "metadata": {
        "id": "EWoRlRswN-O7",
        "colab_type": "code",
        "colab": {}
      },
      "source": [
        "#Separate target variable from rest of data\n",
        "X1 = model_df.drop(columns = ['saleprice', 'garagearea'])\n",
        "y = model_df['saleprice']"
      ],
      "execution_count": 0,
      "outputs": []
    },
    {
      "cell_type": "code",
      "metadata": {
        "id": "KyjdScyBNhu7",
        "colab_type": "code",
        "outputId": "534f7cba-a867-4d58-8bdb-aa84a5a9603c",
        "colab": {
          "base_uri": "https://localhost:8080/",
          "height": 0
        }
      },
      "source": [
        "X1 = sm.add_constant(X1)\n",
        "\n",
        "results1 = sm.OLS(y, X1).fit()\n",
        "\n",
        "results1.summary()"
      ],
      "execution_count": 55,
      "outputs": [
        {
          "output_type": "stream",
          "text": [
            "/usr/local/lib/python3.6/dist-packages/numpy/core/fromnumeric.py:2495: FutureWarning: Method .ptp is deprecated and will be removed in a future version. Use numpy.ptp instead.\n",
            "  return ptp(axis=axis, out=out, **kwargs)\n"
          ],
          "name": "stderr"
        },
        {
          "output_type": "execute_result",
          "data": {
            "text/html": [
              "<table class=\"simpletable\">\n",
              "<caption>OLS Regression Results</caption>\n",
              "<tr>\n",
              "  <th>Dep. Variable:</th>        <td>saleprice</td>    <th>  R-squared:         </th> <td>   0.780</td> \n",
              "</tr>\n",
              "<tr>\n",
              "  <th>Model:</th>                   <td>OLS</td>       <th>  Adj. R-squared:    </th> <td>   0.778</td> \n",
              "</tr>\n",
              "<tr>\n",
              "  <th>Method:</th>             <td>Least Squares</td>  <th>  F-statistic:       </th> <td>   386.0</td> \n",
              "</tr>\n",
              "<tr>\n",
              "  <th>Date:</th>             <td>Tue, 05 Nov 2019</td> <th>  Prob (F-statistic):</th>  <td>  0.00</td>  \n",
              "</tr>\n",
              "<tr>\n",
              "  <th>Time:</th>                 <td>22:09:23</td>     <th>  Log-Likelihood:    </th> <td> -15741.</td> \n",
              "</tr>\n",
              "<tr>\n",
              "  <th>No. Observations:</th>      <td>  1318</td>      <th>  AIC:               </th> <td>3.151e+04</td>\n",
              "</tr>\n",
              "<tr>\n",
              "  <th>Df Residuals:</th>          <td>  1305</td>      <th>  BIC:               </th> <td>3.158e+04</td>\n",
              "</tr>\n",
              "<tr>\n",
              "  <th>Df Model:</th>              <td>    12</td>      <th>                     </th>     <td> </td>    \n",
              "</tr>\n",
              "<tr>\n",
              "  <th>Covariance Type:</th>      <td>nonrobust</td>    <th>                     </th>     <td> </td>    \n",
              "</tr>\n",
              "</table>\n",
              "<table class=\"simpletable\">\n",
              "<tr>\n",
              "          <td></td>            <th>coef</th>     <th>std err</th>      <th>t</th>      <th>P>|t|</th>  <th>[0.025</th>    <th>0.975]</th>  \n",
              "</tr>\n",
              "<tr>\n",
              "  <th>const</th>            <td>-3.525e+04</td> <td> 4509.295</td> <td>   -7.818</td> <td> 0.000</td> <td>-4.41e+04</td> <td>-2.64e+04</td>\n",
              "</tr>\n",
              "<tr>\n",
              "  <th>overallqual</th>      <td> 1.861e+04</td> <td> 1332.261</td> <td>   13.972</td> <td> 0.000</td> <td>  1.6e+04</td> <td> 2.12e+04</td>\n",
              "</tr>\n",
              "<tr>\n",
              "  <th>grlivarea</th>        <td>   47.8598</td> <td>    2.579</td> <td>   18.561</td> <td> 0.000</td> <td>   42.801</td> <td>   52.918</td>\n",
              "</tr>\n",
              "<tr>\n",
              "  <th>garagecars</th>       <td> 1.883e+04</td> <td> 2129.780</td> <td>    8.843</td> <td> 0.000</td> <td> 1.47e+04</td> <td>  2.3e+04</td>\n",
              "</tr>\n",
              "<tr>\n",
              "  <th>totalbsmtsf</th>      <td>   23.4450</td> <td>    3.253</td> <td>    7.207</td> <td> 0.000</td> <td>   17.063</td> <td>   29.827</td>\n",
              "</tr>\n",
              "<tr>\n",
              "  <th>exterqual_Ex</th>     <td> 3.833e+04</td> <td> 6492.810</td> <td>    5.904</td> <td> 0.000</td> <td> 2.56e+04</td> <td> 5.11e+04</td>\n",
              "</tr>\n",
              "<tr>\n",
              "  <th>exterqual_Fa</th>     <td>-3.124e+04</td> <td> 1.16e+04</td> <td>   -2.686</td> <td> 0.007</td> <td>-5.41e+04</td> <td>-8421.180</td>\n",
              "</tr>\n",
              "<tr>\n",
              "  <th>exterqual_Gd</th>     <td>-1.433e+04</td> <td> 4187.981</td> <td>   -3.423</td> <td> 0.001</td> <td>-2.25e+04</td> <td>-6118.042</td>\n",
              "</tr>\n",
              "<tr>\n",
              "  <th>exterqual_TA</th>     <td>-2.801e+04</td> <td> 3782.290</td> <td>   -7.405</td> <td> 0.000</td> <td>-3.54e+04</td> <td>-2.06e+04</td>\n",
              "</tr>\n",
              "<tr>\n",
              "  <th>centralair_N</th>     <td>-2.671e+04</td> <td> 3577.178</td> <td>   -7.466</td> <td> 0.000</td> <td>-3.37e+04</td> <td>-1.97e+04</td>\n",
              "</tr>\n",
              "<tr>\n",
              "  <th>centralair_Y</th>     <td>-8545.8295</td> <td> 3375.709</td> <td>   -2.532</td> <td> 0.011</td> <td>-1.52e+04</td> <td>-1923.419</td>\n",
              "</tr>\n",
              "<tr>\n",
              "  <th>mszoning_C (all)</th> <td>-2.053e+04</td> <td> 1.14e+04</td> <td>   -1.797</td> <td> 0.073</td> <td>-4.29e+04</td> <td> 1880.876</td>\n",
              "</tr>\n",
              "<tr>\n",
              "  <th>mszoning_FV</th>      <td>-1206.4480</td> <td> 5597.174</td> <td>   -0.216</td> <td> 0.829</td> <td>-1.22e+04</td> <td> 9773.996</td>\n",
              "</tr>\n",
              "<tr>\n",
              "  <th>mszoning_RH</th>      <td>-5075.6985</td> <td> 9729.275</td> <td>   -0.522</td> <td> 0.602</td> <td>-2.42e+04</td> <td>  1.4e+04</td>\n",
              "</tr>\n",
              "<tr>\n",
              "  <th>mszoning_RL</th>      <td> 4654.7554</td> <td> 4001.169</td> <td>    1.163</td> <td> 0.245</td> <td>-3194.672</td> <td> 1.25e+04</td>\n",
              "</tr>\n",
              "<tr>\n",
              "  <th>mszoning_RM</th>      <td>-1.309e+04</td> <td> 4205.939</td> <td>   -3.113</td> <td> 0.002</td> <td>-2.13e+04</td> <td>-4840.253</td>\n",
              "</tr>\n",
              "</table>\n",
              "<table class=\"simpletable\">\n",
              "<tr>\n",
              "  <th>Omnibus:</th>       <td>534.285</td> <th>  Durbin-Watson:     </th> <td>   1.959</td> \n",
              "</tr>\n",
              "<tr>\n",
              "  <th>Prob(Omnibus):</th> <td> 0.000</td>  <th>  Jarque-Bera (JB):  </th> <td>60553.856</td>\n",
              "</tr>\n",
              "<tr>\n",
              "  <th>Skew:</th>          <td>-0.867</td>  <th>  Prob(JB):          </th> <td>    0.00</td> \n",
              "</tr>\n",
              "<tr>\n",
              "  <th>Kurtosis:</th>      <td>36.161</td>  <th>  Cond. No.          </th> <td>4.47e+19</td> \n",
              "</tr>\n",
              "</table><br/><br/>Warnings:<br/>[1] Standard Errors assume that the covariance matrix of the errors is correctly specified.<br/>[2] The smallest eigenvalue is 2.58e-30. This might indicate that there are<br/>strong multicollinearity problems or that the design matrix is singular."
            ],
            "text/plain": [
              "<class 'statsmodels.iolib.summary.Summary'>\n",
              "\"\"\"\n",
              "                            OLS Regression Results                            \n",
              "==============================================================================\n",
              "Dep. Variable:              saleprice   R-squared:                       0.780\n",
              "Model:                            OLS   Adj. R-squared:                  0.778\n",
              "Method:                 Least Squares   F-statistic:                     386.0\n",
              "Date:                Tue, 05 Nov 2019   Prob (F-statistic):               0.00\n",
              "Time:                        22:09:23   Log-Likelihood:                -15741.\n",
              "No. Observations:                1318   AIC:                         3.151e+04\n",
              "Df Residuals:                    1305   BIC:                         3.158e+04\n",
              "Df Model:                          12                                         \n",
              "Covariance Type:            nonrobust                                         \n",
              "====================================================================================\n",
              "                       coef    std err          t      P>|t|      [0.025      0.975]\n",
              "------------------------------------------------------------------------------------\n",
              "const            -3.525e+04   4509.295     -7.818      0.000   -4.41e+04   -2.64e+04\n",
              "overallqual       1.861e+04   1332.261     13.972      0.000     1.6e+04    2.12e+04\n",
              "grlivarea           47.8598      2.579     18.561      0.000      42.801      52.918\n",
              "garagecars        1.883e+04   2129.780      8.843      0.000    1.47e+04     2.3e+04\n",
              "totalbsmtsf         23.4450      3.253      7.207      0.000      17.063      29.827\n",
              "exterqual_Ex      3.833e+04   6492.810      5.904      0.000    2.56e+04    5.11e+04\n",
              "exterqual_Fa     -3.124e+04   1.16e+04     -2.686      0.007   -5.41e+04   -8421.180\n",
              "exterqual_Gd     -1.433e+04   4187.981     -3.423      0.001   -2.25e+04   -6118.042\n",
              "exterqual_TA     -2.801e+04   3782.290     -7.405      0.000   -3.54e+04   -2.06e+04\n",
              "centralair_N     -2.671e+04   3577.178     -7.466      0.000   -3.37e+04   -1.97e+04\n",
              "centralair_Y     -8545.8295   3375.709     -2.532      0.011   -1.52e+04   -1923.419\n",
              "mszoning_C (all) -2.053e+04   1.14e+04     -1.797      0.073   -4.29e+04    1880.876\n",
              "mszoning_FV      -1206.4480   5597.174     -0.216      0.829   -1.22e+04    9773.996\n",
              "mszoning_RH      -5075.6985   9729.275     -0.522      0.602   -2.42e+04     1.4e+04\n",
              "mszoning_RL       4654.7554   4001.169      1.163      0.245   -3194.672    1.25e+04\n",
              "mszoning_RM      -1.309e+04   4205.939     -3.113      0.002   -2.13e+04   -4840.253\n",
              "==============================================================================\n",
              "Omnibus:                      534.285   Durbin-Watson:                   1.959\n",
              "Prob(Omnibus):                  0.000   Jarque-Bera (JB):            60553.856\n",
              "Skew:                          -0.867   Prob(JB):                         0.00\n",
              "Kurtosis:                      36.161   Cond. No.                     4.47e+19\n",
              "==============================================================================\n",
              "\n",
              "Warnings:\n",
              "[1] Standard Errors assume that the covariance matrix of the errors is correctly specified.\n",
              "[2] The smallest eigenvalue is 2.58e-30. This might indicate that there are\n",
              "strong multicollinearity problems or that the design matrix is singular.\n",
              "\"\"\""
            ]
          },
          "metadata": {
            "tags": []
          },
          "execution_count": 55
        }
      ]
    },
    {
      "cell_type": "markdown",
      "metadata": {
        "id": "ncqUKmfnOagX",
        "colab_type": "text"
      },
      "source": [
        "The F statistic improved with the removal of garagearea. R-squared and r-adjusted remained the same. AIC remained the same while BIC had a minor improvement. "
      ]
    },
    {
      "cell_type": "markdown",
      "metadata": {
        "id": "znpyFq3iPKx_",
        "colab_type": "text"
      },
      "source": [
        "## Run 3rd Model"
      ]
    },
    {
      "cell_type": "code",
      "metadata": {
        "id": "g9QGzqFiOS5Y",
        "colab_type": "code",
        "colab": {}
      },
      "source": [
        "#Separate target variable from rest of data - also remove central air\n",
        "X2 = model_df.drop(columns = ['saleprice', 'garagearea', 'centralair_N', 'centralair_Y'])\n",
        "y = model_df['saleprice']"
      ],
      "execution_count": 0,
      "outputs": []
    },
    {
      "cell_type": "code",
      "metadata": {
        "id": "qYFvq1kANhwi",
        "colab_type": "code",
        "outputId": "0491a561-a02e-401c-c170-2e5b00e529d7",
        "colab": {
          "base_uri": "https://localhost:8080/",
          "height": 0
        }
      },
      "source": [
        "X2 = sm.add_constant(X2)\n",
        "\n",
        "results2 = sm.OLS(y, X2).fit()\n",
        "\n",
        "results2.summary()"
      ],
      "execution_count": 57,
      "outputs": [
        {
          "output_type": "stream",
          "text": [
            "/usr/local/lib/python3.6/dist-packages/numpy/core/fromnumeric.py:2495: FutureWarning: Method .ptp is deprecated and will be removed in a future version. Use numpy.ptp instead.\n",
            "  return ptp(axis=axis, out=out, **kwargs)\n"
          ],
          "name": "stderr"
        },
        {
          "output_type": "execute_result",
          "data": {
            "text/html": [
              "<table class=\"simpletable\">\n",
              "<caption>OLS Regression Results</caption>\n",
              "<tr>\n",
              "  <th>Dep. Variable:</th>        <td>saleprice</td>    <th>  R-squared:         </th> <td>   0.778</td> \n",
              "</tr>\n",
              "<tr>\n",
              "  <th>Model:</th>                   <td>OLS</td>       <th>  Adj. R-squared:    </th> <td>   0.776</td> \n",
              "</tr>\n",
              "<tr>\n",
              "  <th>Method:</th>             <td>Least Squares</td>  <th>  F-statistic:       </th> <td>   416.5</td> \n",
              "</tr>\n",
              "<tr>\n",
              "  <th>Date:</th>             <td>Tue, 05 Nov 2019</td> <th>  Prob (F-statistic):</th>  <td>  0.00</td>  \n",
              "</tr>\n",
              "<tr>\n",
              "  <th>Time:</th>                 <td>22:09:23</td>     <th>  Log-Likelihood:    </th> <td> -15747.</td> \n",
              "</tr>\n",
              "<tr>\n",
              "  <th>No. Observations:</th>      <td>  1318</td>      <th>  AIC:               </th> <td>3.152e+04</td>\n",
              "</tr>\n",
              "<tr>\n",
              "  <th>Df Residuals:</th>          <td>  1306</td>      <th>  BIC:               </th> <td>3.158e+04</td>\n",
              "</tr>\n",
              "<tr>\n",
              "  <th>Df Model:</th>              <td>    11</td>      <th>                     </th>     <td> </td>    \n",
              "</tr>\n",
              "<tr>\n",
              "  <th>Covariance Type:</th>      <td>nonrobust</td>    <th>                     </th>     <td> </td>    \n",
              "</tr>\n",
              "</table>\n",
              "<table class=\"simpletable\">\n",
              "<tr>\n",
              "          <td></td>            <th>coef</th>     <th>std err</th>      <th>t</th>      <th>P>|t|</th>  <th>[0.025</th>    <th>0.975]</th>  \n",
              "</tr>\n",
              "<tr>\n",
              "  <th>const</th>            <td>-4.619e+04</td> <td> 6078.666</td> <td>   -7.598</td> <td> 0.000</td> <td>-5.81e+04</td> <td>-3.43e+04</td>\n",
              "</tr>\n",
              "<tr>\n",
              "  <th>overallqual</th>      <td> 1.908e+04</td> <td> 1330.746</td> <td>   14.339</td> <td> 0.000</td> <td> 1.65e+04</td> <td> 2.17e+04</td>\n",
              "</tr>\n",
              "<tr>\n",
              "  <th>grlivarea</th>        <td>   46.9824</td> <td>    2.576</td> <td>   18.236</td> <td> 0.000</td> <td>   41.928</td> <td>   52.037</td>\n",
              "</tr>\n",
              "<tr>\n",
              "  <th>garagecars</th>       <td> 1.894e+04</td> <td> 2138.301</td> <td>    8.858</td> <td> 0.000</td> <td> 1.47e+04</td> <td> 2.31e+04</td>\n",
              "</tr>\n",
              "<tr>\n",
              "  <th>totalbsmtsf</th>      <td>   23.9195</td> <td>    3.263</td> <td>    7.329</td> <td> 0.000</td> <td>   17.517</td> <td>   30.322</td>\n",
              "</tr>\n",
              "<tr>\n",
              "  <th>exterqual_Ex</th>     <td> 3.664e+04</td> <td> 6685.580</td> <td>    5.480</td> <td> 0.000</td> <td> 2.35e+04</td> <td> 4.98e+04</td>\n",
              "</tr>\n",
              "<tr>\n",
              "  <th>exterqual_Fa</th>     <td>-3.817e+04</td> <td> 1.17e+04</td> <td>   -3.257</td> <td> 0.001</td> <td>-6.12e+04</td> <td>-1.52e+04</td>\n",
              "</tr>\n",
              "<tr>\n",
              "  <th>exterqual_Gd</th>     <td>-1.547e+04</td> <td> 4216.661</td> <td>   -3.670</td> <td> 0.000</td> <td>-2.37e+04</td> <td>-7202.476</td>\n",
              "</tr>\n",
              "<tr>\n",
              "  <th>exterqual_TA</th>     <td>-2.917e+04</td> <td> 3635.430</td> <td>   -8.025</td> <td> 0.000</td> <td>-3.63e+04</td> <td> -2.2e+04</td>\n",
              "</tr>\n",
              "<tr>\n",
              "  <th>mszoning_C (all)</th> <td>-2.595e+04</td> <td> 1.15e+04</td> <td>   -2.259</td> <td> 0.024</td> <td>-4.85e+04</td> <td>-3414.002</td>\n",
              "</tr>\n",
              "<tr>\n",
              "  <th>mszoning_FV</th>      <td> -317.3065</td> <td> 5577.877</td> <td>   -0.057</td> <td> 0.955</td> <td>-1.13e+04</td> <td> 1.06e+04</td>\n",
              "</tr>\n",
              "<tr>\n",
              "  <th>mszoning_RH</th>      <td>-1.124e+04</td> <td> 9785.204</td> <td>   -1.149</td> <td> 0.251</td> <td>-3.04e+04</td> <td> 7952.008</td>\n",
              "</tr>\n",
              "<tr>\n",
              "  <th>mszoning_RL</th>      <td> 5514.8501</td> <td> 3928.075</td> <td>    1.404</td> <td> 0.161</td> <td>-2191.176</td> <td> 1.32e+04</td>\n",
              "</tr>\n",
              "<tr>\n",
              "  <th>mszoning_RM</th>      <td>-1.419e+04</td> <td> 4207.209</td> <td>   -3.373</td> <td> 0.001</td> <td>-2.24e+04</td> <td>-5938.764</td>\n",
              "</tr>\n",
              "</table>\n",
              "<table class=\"simpletable\">\n",
              "<tr>\n",
              "  <th>Omnibus:</th>       <td>528.382</td> <th>  Durbin-Watson:     </th> <td>   1.959</td> \n",
              "</tr>\n",
              "<tr>\n",
              "  <th>Prob(Omnibus):</th> <td> 0.000</td>  <th>  Jarque-Bera (JB):  </th> <td>57987.000</td>\n",
              "</tr>\n",
              "<tr>\n",
              "  <th>Skew:</th>          <td>-0.854</td>  <th>  Prob(JB):          </th> <td>    0.00</td> \n",
              "</tr>\n",
              "<tr>\n",
              "  <th>Kurtosis:</th>      <td>35.450</td>  <th>  Cond. No.          </th> <td>4.34e+18</td> \n",
              "</tr>\n",
              "</table><br/><br/>Warnings:<br/>[1] Standard Errors assume that the covariance matrix of the errors is correctly specified.<br/>[2] The smallest eigenvalue is 2.73e-28. This might indicate that there are<br/>strong multicollinearity problems or that the design matrix is singular."
            ],
            "text/plain": [
              "<class 'statsmodels.iolib.summary.Summary'>\n",
              "\"\"\"\n",
              "                            OLS Regression Results                            \n",
              "==============================================================================\n",
              "Dep. Variable:              saleprice   R-squared:                       0.778\n",
              "Model:                            OLS   Adj. R-squared:                  0.776\n",
              "Method:                 Least Squares   F-statistic:                     416.5\n",
              "Date:                Tue, 05 Nov 2019   Prob (F-statistic):               0.00\n",
              "Time:                        22:09:23   Log-Likelihood:                -15747.\n",
              "No. Observations:                1318   AIC:                         3.152e+04\n",
              "Df Residuals:                    1306   BIC:                         3.158e+04\n",
              "Df Model:                          11                                         \n",
              "Covariance Type:            nonrobust                                         \n",
              "====================================================================================\n",
              "                       coef    std err          t      P>|t|      [0.025      0.975]\n",
              "------------------------------------------------------------------------------------\n",
              "const            -4.619e+04   6078.666     -7.598      0.000   -5.81e+04   -3.43e+04\n",
              "overallqual       1.908e+04   1330.746     14.339      0.000    1.65e+04    2.17e+04\n",
              "grlivarea           46.9824      2.576     18.236      0.000      41.928      52.037\n",
              "garagecars        1.894e+04   2138.301      8.858      0.000    1.47e+04    2.31e+04\n",
              "totalbsmtsf         23.9195      3.263      7.329      0.000      17.517      30.322\n",
              "exterqual_Ex      3.664e+04   6685.580      5.480      0.000    2.35e+04    4.98e+04\n",
              "exterqual_Fa     -3.817e+04   1.17e+04     -3.257      0.001   -6.12e+04   -1.52e+04\n",
              "exterqual_Gd     -1.547e+04   4216.661     -3.670      0.000   -2.37e+04   -7202.476\n",
              "exterqual_TA     -2.917e+04   3635.430     -8.025      0.000   -3.63e+04    -2.2e+04\n",
              "mszoning_C (all) -2.595e+04   1.15e+04     -2.259      0.024   -4.85e+04   -3414.002\n",
              "mszoning_FV       -317.3065   5577.877     -0.057      0.955   -1.13e+04    1.06e+04\n",
              "mszoning_RH      -1.124e+04   9785.204     -1.149      0.251   -3.04e+04    7952.008\n",
              "mszoning_RL       5514.8501   3928.075      1.404      0.161   -2191.176    1.32e+04\n",
              "mszoning_RM      -1.419e+04   4207.209     -3.373      0.001   -2.24e+04   -5938.764\n",
              "==============================================================================\n",
              "Omnibus:                      528.382   Durbin-Watson:                   1.959\n",
              "Prob(Omnibus):                  0.000   Jarque-Bera (JB):            57987.000\n",
              "Skew:                          -0.854   Prob(JB):                         0.00\n",
              "Kurtosis:                      35.450   Cond. No.                     4.34e+18\n",
              "==============================================================================\n",
              "\n",
              "Warnings:\n",
              "[1] Standard Errors assume that the covariance matrix of the errors is correctly specified.\n",
              "[2] The smallest eigenvalue is 2.73e-28. This might indicate that there are\n",
              "strong multicollinearity problems or that the design matrix is singular.\n",
              "\"\"\""
            ]
          },
          "metadata": {
            "tags": []
          },
          "execution_count": 57
        }
      ]
    },
    {
      "cell_type": "markdown",
      "metadata": {
        "id": "ypxT_QrrPshb",
        "colab_type": "text"
      },
      "source": [
        "This model improved only on f statistic but was not performing better in terms of r-squared and r-adjusted, or BIC/AIC."
      ]
    },
    {
      "cell_type": "markdown",
      "metadata": {
        "id": "EqjfPxYUQ4mn",
        "colab_type": "text"
      },
      "source": [
        "I think the 2nd model is a satisfactory model because it explains 77% of the variance. If we get much higher than this, we run the risk of overfitting. "
      ]
    },
    {
      "cell_type": "markdown",
      "metadata": {
        "id": "58LFCUHKjLqP",
        "colab_type": "text"
      },
      "source": [
        "## Run 4th Model\n",
        "Estimate your model from the previous checkpoint in the train set. Assess the goodness of fit of your model.\n",
        "Predict the house prices in the test set, and evaluate the performance of your model using the metrics we mentioned in this checkpoint.\n",
        "Is the performance of your model satisfactory? Why?\n",
        "Try to improve your model in terms of predictive performance by adding or removing some variables.\n",
        "Please submit a link your work notebook. This is not a graded checkpoint, but you should discuss your solutions with your mentor. Also, when you're done, compare your work to this example solution."
      ]
    },
    {
      "cell_type": "code",
      "metadata": {
        "id": "wygCTgYojMGe",
        "colab_type": "code",
        "colab": {}
      },
      "source": [
        "#Separate target variable from rest of data\n",
        "X3 = model_df.drop(columns = ['saleprice', 'garagearea'])\n",
        "y3 = model_df['saleprice']\n",
        "\n",
        "#split train_test\n",
        "X_train3, X_test3, y_train3, y_test3 = train_test_split(X3, y3)"
      ],
      "execution_count": 0,
      "outputs": []
    },
    {
      "cell_type": "code",
      "metadata": {
        "id": "e2Lt2lbCjqP_",
        "colab_type": "code",
        "colab": {
          "base_uri": "https://localhost:8080/",
          "height": 819
        },
        "outputId": "1c91ea5c-a989-49ae-d458-8ab7484e3d03"
      },
      "source": [
        "X_train3 = sm.add_constant(X_train3)\n",
        "\n",
        "results3 = sm.OLS(y_train3, X_train3).fit()\n",
        "\n",
        "results3.summary()"
      ],
      "execution_count": 59,
      "outputs": [
        {
          "output_type": "stream",
          "text": [
            "/usr/local/lib/python3.6/dist-packages/numpy/core/fromnumeric.py:2495: FutureWarning: Method .ptp is deprecated and will be removed in a future version. Use numpy.ptp instead.\n",
            "  return ptp(axis=axis, out=out, **kwargs)\n"
          ],
          "name": "stderr"
        },
        {
          "output_type": "execute_result",
          "data": {
            "text/html": [
              "<table class=\"simpletable\">\n",
              "<caption>OLS Regression Results</caption>\n",
              "<tr>\n",
              "  <th>Dep. Variable:</th>        <td>saleprice</td>    <th>  R-squared:         </th> <td>   0.803</td> \n",
              "</tr>\n",
              "<tr>\n",
              "  <th>Model:</th>                   <td>OLS</td>       <th>  Adj. R-squared:    </th> <td>   0.800</td> \n",
              "</tr>\n",
              "<tr>\n",
              "  <th>Method:</th>             <td>Least Squares</td>  <th>  F-statistic:       </th> <td>   330.2</td> \n",
              "</tr>\n",
              "<tr>\n",
              "  <th>Date:</th>             <td>Tue, 05 Nov 2019</td> <th>  Prob (F-statistic):</th>  <td>  0.00</td>  \n",
              "</tr>\n",
              "<tr>\n",
              "  <th>Time:</th>                 <td>22:09:23</td>     <th>  Log-Likelihood:    </th> <td> -11718.</td> \n",
              "</tr>\n",
              "<tr>\n",
              "  <th>No. Observations:</th>      <td>   988</td>      <th>  AIC:               </th> <td>2.346e+04</td>\n",
              "</tr>\n",
              "<tr>\n",
              "  <th>Df Residuals:</th>          <td>   975</td>      <th>  BIC:               </th> <td>2.353e+04</td>\n",
              "</tr>\n",
              "<tr>\n",
              "  <th>Df Model:</th>              <td>    12</td>      <th>                     </th>     <td> </td>    \n",
              "</tr>\n",
              "<tr>\n",
              "  <th>Covariance Type:</th>      <td>nonrobust</td>    <th>                     </th>     <td> </td>    \n",
              "</tr>\n",
              "</table>\n",
              "<table class=\"simpletable\">\n",
              "<tr>\n",
              "          <td></td>            <th>coef</th>     <th>std err</th>      <th>t</th>      <th>P>|t|</th>  <th>[0.025</th>    <th>0.975]</th>  \n",
              "</tr>\n",
              "<tr>\n",
              "  <th>const</th>            <td> -3.73e+04</td> <td> 4636.493</td> <td>   -8.045</td> <td> 0.000</td> <td>-4.64e+04</td> <td>-2.82e+04</td>\n",
              "</tr>\n",
              "<tr>\n",
              "  <th>overallqual</th>      <td> 1.746e+04</td> <td> 1392.263</td> <td>   12.544</td> <td> 0.000</td> <td> 1.47e+04</td> <td> 2.02e+04</td>\n",
              "</tr>\n",
              "<tr>\n",
              "  <th>grlivarea</th>        <td>   50.6145</td> <td>    2.804</td> <td>   18.049</td> <td> 0.000</td> <td>   45.111</td> <td>   56.117</td>\n",
              "</tr>\n",
              "<tr>\n",
              "  <th>garagecars</th>       <td> 1.523e+04</td> <td> 2312.377</td> <td>    6.587</td> <td> 0.000</td> <td> 1.07e+04</td> <td> 1.98e+04</td>\n",
              "</tr>\n",
              "<tr>\n",
              "  <th>totalbsmtsf</th>      <td>   35.4812</td> <td>    3.675</td> <td>    9.655</td> <td> 0.000</td> <td>   28.269</td> <td>   42.693</td>\n",
              "</tr>\n",
              "<tr>\n",
              "  <th>exterqual_Ex</th>     <td> 3.161e+04</td> <td> 7021.382</td> <td>    4.502</td> <td> 0.000</td> <td> 1.78e+04</td> <td> 4.54e+04</td>\n",
              "</tr>\n",
              "<tr>\n",
              "  <th>exterqual_Fa</th>     <td>-2.814e+04</td> <td>  1.3e+04</td> <td>   -2.166</td> <td> 0.031</td> <td>-5.36e+04</td> <td>-2643.029</td>\n",
              "</tr>\n",
              "<tr>\n",
              "  <th>exterqual_Gd</th>     <td> -1.32e+04</td> <td> 4630.524</td> <td>   -2.851</td> <td> 0.004</td> <td>-2.23e+04</td> <td>-4114.714</td>\n",
              "</tr>\n",
              "<tr>\n",
              "  <th>exterqual_TA</th>     <td>-2.757e+04</td> <td> 4177.352</td> <td>   -6.600</td> <td> 0.000</td> <td>-3.58e+04</td> <td>-1.94e+04</td>\n",
              "</tr>\n",
              "<tr>\n",
              "  <th>centralair_N</th>     <td>-2.825e+04</td> <td> 3798.887</td> <td>   -7.437</td> <td> 0.000</td> <td>-3.57e+04</td> <td>-2.08e+04</td>\n",
              "</tr>\n",
              "<tr>\n",
              "  <th>centralair_Y</th>     <td>-9051.9244</td> <td> 3552.747</td> <td>   -2.548</td> <td> 0.011</td> <td> -1.6e+04</td> <td>-2080.014</td>\n",
              "</tr>\n",
              "<tr>\n",
              "  <th>mszoning_C (all)</th> <td>-1.764e+04</td> <td> 1.15e+04</td> <td>   -1.532</td> <td> 0.126</td> <td>-4.02e+04</td> <td> 4959.910</td>\n",
              "</tr>\n",
              "<tr>\n",
              "  <th>mszoning_FV</th>      <td>  621.6904</td> <td> 5837.800</td> <td>    0.106</td> <td> 0.915</td> <td>-1.08e+04</td> <td> 1.21e+04</td>\n",
              "</tr>\n",
              "<tr>\n",
              "  <th>mszoning_RH</th>      <td>-9940.0506</td> <td> 9997.355</td> <td>   -0.994</td> <td> 0.320</td> <td>-2.96e+04</td> <td> 9678.760</td>\n",
              "</tr>\n",
              "<tr>\n",
              "  <th>mszoning_RL</th>      <td> 2246.5312</td> <td> 4246.893</td> <td>    0.529</td> <td> 0.597</td> <td>-6087.571</td> <td> 1.06e+04</td>\n",
              "</tr>\n",
              "<tr>\n",
              "  <th>mszoning_RM</th>      <td>-1.259e+04</td> <td> 4434.966</td> <td>   -2.838</td> <td> 0.005</td> <td>-2.13e+04</td> <td>-3882.922</td>\n",
              "</tr>\n",
              "</table>\n",
              "<table class=\"simpletable\">\n",
              "<tr>\n",
              "  <th>Omnibus:</th>       <td>262.631</td> <th>  Durbin-Watson:     </th> <td>   2.062</td> \n",
              "</tr>\n",
              "<tr>\n",
              "  <th>Prob(Omnibus):</th> <td> 0.000</td>  <th>  Jarque-Bera (JB):  </th> <td>17684.025</td>\n",
              "</tr>\n",
              "<tr>\n",
              "  <th>Skew:</th>          <td>-0.074</td>  <th>  Prob(JB):          </th> <td>    0.00</td> \n",
              "</tr>\n",
              "<tr>\n",
              "  <th>Kurtosis:</th>      <td>23.726</td>  <th>  Cond. No.          </th> <td>2.58e+19</td> \n",
              "</tr>\n",
              "</table><br/><br/>Warnings:<br/>[1] Standard Errors assume that the covariance matrix of the errors is correctly specified.<br/>[2] The smallest eigenvalue is 5.66e-30. This might indicate that there are<br/>strong multicollinearity problems or that the design matrix is singular."
            ],
            "text/plain": [
              "<class 'statsmodels.iolib.summary.Summary'>\n",
              "\"\"\"\n",
              "                            OLS Regression Results                            \n",
              "==============================================================================\n",
              "Dep. Variable:              saleprice   R-squared:                       0.803\n",
              "Model:                            OLS   Adj. R-squared:                  0.800\n",
              "Method:                 Least Squares   F-statistic:                     330.2\n",
              "Date:                Tue, 05 Nov 2019   Prob (F-statistic):               0.00\n",
              "Time:                        22:09:23   Log-Likelihood:                -11718.\n",
              "No. Observations:                 988   AIC:                         2.346e+04\n",
              "Df Residuals:                     975   BIC:                         2.353e+04\n",
              "Df Model:                          12                                         \n",
              "Covariance Type:            nonrobust                                         \n",
              "====================================================================================\n",
              "                       coef    std err          t      P>|t|      [0.025      0.975]\n",
              "------------------------------------------------------------------------------------\n",
              "const             -3.73e+04   4636.493     -8.045      0.000   -4.64e+04   -2.82e+04\n",
              "overallqual       1.746e+04   1392.263     12.544      0.000    1.47e+04    2.02e+04\n",
              "grlivarea           50.6145      2.804     18.049      0.000      45.111      56.117\n",
              "garagecars        1.523e+04   2312.377      6.587      0.000    1.07e+04    1.98e+04\n",
              "totalbsmtsf         35.4812      3.675      9.655      0.000      28.269      42.693\n",
              "exterqual_Ex      3.161e+04   7021.382      4.502      0.000    1.78e+04    4.54e+04\n",
              "exterqual_Fa     -2.814e+04    1.3e+04     -2.166      0.031   -5.36e+04   -2643.029\n",
              "exterqual_Gd      -1.32e+04   4630.524     -2.851      0.004   -2.23e+04   -4114.714\n",
              "exterqual_TA     -2.757e+04   4177.352     -6.600      0.000   -3.58e+04   -1.94e+04\n",
              "centralair_N     -2.825e+04   3798.887     -7.437      0.000   -3.57e+04   -2.08e+04\n",
              "centralair_Y     -9051.9244   3552.747     -2.548      0.011    -1.6e+04   -2080.014\n",
              "mszoning_C (all) -1.764e+04   1.15e+04     -1.532      0.126   -4.02e+04    4959.910\n",
              "mszoning_FV        621.6904   5837.800      0.106      0.915   -1.08e+04    1.21e+04\n",
              "mszoning_RH      -9940.0506   9997.355     -0.994      0.320   -2.96e+04    9678.760\n",
              "mszoning_RL       2246.5312   4246.893      0.529      0.597   -6087.571    1.06e+04\n",
              "mszoning_RM      -1.259e+04   4434.966     -2.838      0.005   -2.13e+04   -3882.922\n",
              "==============================================================================\n",
              "Omnibus:                      262.631   Durbin-Watson:                   2.062\n",
              "Prob(Omnibus):                  0.000   Jarque-Bera (JB):            17684.025\n",
              "Skew:                          -0.074   Prob(JB):                         0.00\n",
              "Kurtosis:                      23.726   Cond. No.                     2.58e+19\n",
              "==============================================================================\n",
              "\n",
              "Warnings:\n",
              "[1] Standard Errors assume that the covariance matrix of the errors is correctly specified.\n",
              "[2] The smallest eigenvalue is 5.66e-30. This might indicate that there are\n",
              "strong multicollinearity problems or that the design matrix is singular.\n",
              "\"\"\""
            ]
          },
          "metadata": {
            "tags": []
          },
          "execution_count": 59
        }
      ]
    },
    {
      "cell_type": "code",
      "metadata": {
        "id": "Kpm_MfcIjzA-",
        "colab_type": "code",
        "colab": {
          "base_uri": "https://localhost:8080/",
          "height": 72
        },
        "outputId": "6a2f5cb5-886f-4e49-835e-d56fdbb59a39"
      },
      "source": [
        "X_test3 = sm.add_constant(X_test3)\n",
        "\n",
        "# We are making predictions here\n",
        "y_preds3 = results3.predict(X_test3)"
      ],
      "execution_count": 60,
      "outputs": [
        {
          "output_type": "stream",
          "text": [
            "/usr/local/lib/python3.6/dist-packages/numpy/core/fromnumeric.py:2495: FutureWarning: Method .ptp is deprecated and will be removed in a future version. Use numpy.ptp instead.\n",
            "  return ptp(axis=axis, out=out, **kwargs)\n"
          ],
          "name": "stderr"
        }
      ]
    },
    {
      "cell_type": "code",
      "metadata": {
        "id": "C0PZP0dSj3Hl",
        "colab_type": "code",
        "colab": {
          "base_uri": "https://localhost:8080/",
          "height": 391
        },
        "outputId": "32dc590d-1a0d-4e0d-f8e7-a400fc1de90a"
      },
      "source": [
        "from sklearn.metrics import mean_absolute_error\n",
        "from statsmodels.tools.eval_measures import mse, rmse\n",
        "plt.scatter(y_test3, y_preds3)\n",
        "plt.plot(y_test3, y_test3, color=\"red\")\n",
        "plt.xlabel(\"true values\")\n",
        "plt.ylabel(\"predicted values\")\n",
        "plt.title(\"Charges: true and predicted values\")\n",
        "plt.show()\n",
        "\n",
        "print(\"Mean absolute error of the prediction is: {}\".format(mean_absolute_error(y_test3, y_preds3)))\n",
        "print(\"Mean squared error of the prediction is: {}\".format(mse(y_test3, y_preds3)))\n",
        "print(\"Root mean squared error of the prediction is: {}\".format(rmse(y_test3, y_preds3)))\n",
        "print(\"Mean absolute percentage error of the prediction is: {}\".format(np.mean(np.abs((y_test3 - y_preds3) / y_test3)) * 100))"
      ],
      "execution_count": 61,
      "outputs": [
        {
          "output_type": "display_data",
          "data": {
            "image/png": "[encoded data removed]",
            "text/plain": [
              "<Figure size 432x288 with 1 Axes>"
            ]
          },
          "metadata": {
            "tags": []
          }
        },
        {
          "output_type": "stream",
          "text": [
            "Mean absolute error of the prediction is: 24422.856726807386\n",
            "Mean squared error of the prediction is: 2093670649.1824822\n",
            "Root mean squared error of the prediction is: 45756.645956434375\n",
            "Mean absolute percentage error of the prediction is: 12.997030661278133\n"
          ],
          "name": "stdout"
        }
      ]
    },
    {
      "cell_type": "markdown",
      "metadata": {
        "id": "cr5U560altMM",
        "colab_type": "text"
      },
      "source": [
        "## Run 5th Model"
      ]
    },
    {
      "cell_type": "code",
      "metadata": {
        "id": "JOvcfpRNkJEs",
        "colab_type": "code",
        "colab": {}
      },
      "source": [
        "#Separate target variable from rest of data\n",
        "X4 = model_df.drop(columns = ['saleprice', 'garagearea', 'mszoning_C (all)', 'mszoning_FV', 'mszoning_RH', 'mszoning_RL', 'mszoning_RM'])\n",
        "y4 = model_df['saleprice']\n",
        "\n",
        "#split train_test\n",
        "X_train4, X_test4, y_train4, y_test4 = train_test_split(X4, y4)"
      ],
      "execution_count": 0,
      "outputs": []
    },
    {
      "cell_type": "code",
      "metadata": {
        "id": "g2CoZgBYluU3",
        "colab_type": "code",
        "colab": {
          "base_uri": "https://localhost:8080/",
          "height": 716
        },
        "outputId": "c986a897-9dc3-4b50-c0e5-09763ca539c5"
      },
      "source": [
        "X_train4 = sm.add_constant(X_train4)\n",
        "\n",
        "results4 = sm.OLS(y_train4, X_train4).fit()\n",
        "\n",
        "results4.summary()"
      ],
      "execution_count": 75,
      "outputs": [
        {
          "output_type": "stream",
          "text": [
            "/usr/local/lib/python3.6/dist-packages/numpy/core/fromnumeric.py:2495: FutureWarning: Method .ptp is deprecated and will be removed in a future version. Use numpy.ptp instead.\n",
            "  return ptp(axis=axis, out=out, **kwargs)\n"
          ],
          "name": "stderr"
        },
        {
          "output_type": "execute_result",
          "data": {
            "text/html": [
              "<table class=\"simpletable\">\n",
              "<caption>OLS Regression Results</caption>\n",
              "<tr>\n",
              "  <th>Dep. Variable:</th>        <td>saleprice</td>    <th>  R-squared:         </th> <td>   0.778</td> \n",
              "</tr>\n",
              "<tr>\n",
              "  <th>Model:</th>                   <td>OLS</td>       <th>  Adj. R-squared:    </th> <td>   0.776</td> \n",
              "</tr>\n",
              "<tr>\n",
              "  <th>Method:</th>             <td>Least Squares</td>  <th>  F-statistic:       </th> <td>   428.4</td> \n",
              "</tr>\n",
              "<tr>\n",
              "  <th>Date:</th>             <td>Tue, 05 Nov 2019</td> <th>  Prob (F-statistic):</th> <td>1.49e-313</td>\n",
              "</tr>\n",
              "<tr>\n",
              "  <th>Time:</th>                 <td>22:13:10</td>     <th>  Log-Likelihood:    </th> <td> -11786.</td> \n",
              "</tr>\n",
              "<tr>\n",
              "  <th>No. Observations:</th>      <td>   988</td>      <th>  AIC:               </th> <td>2.359e+04</td>\n",
              "</tr>\n",
              "<tr>\n",
              "  <th>Df Residuals:</th>          <td>   979</td>      <th>  BIC:               </th> <td>2.363e+04</td>\n",
              "</tr>\n",
              "<tr>\n",
              "  <th>Df Model:</th>              <td>     8</td>      <th>                     </th>     <td> </td>    \n",
              "</tr>\n",
              "<tr>\n",
              "  <th>Covariance Type:</th>      <td>nonrobust</td>    <th>                     </th>     <td> </td>    \n",
              "</tr>\n",
              "</table>\n",
              "<table class=\"simpletable\">\n",
              "<tr>\n",
              "        <td></td>          <th>coef</th>     <th>std err</th>      <th>t</th>      <th>P>|t|</th>  <th>[0.025</th>    <th>0.975]</th>  \n",
              "</tr>\n",
              "<tr>\n",
              "  <th>const</th>        <td>-3.913e+04</td> <td> 5406.245</td> <td>   -7.239</td> <td> 0.000</td> <td>-4.97e+04</td> <td>-2.85e+04</td>\n",
              "</tr>\n",
              "<tr>\n",
              "  <th>overallqual</th>  <td> 1.858e+04</td> <td> 1492.337</td> <td>   12.448</td> <td> 0.000</td> <td> 1.56e+04</td> <td> 2.15e+04</td>\n",
              "</tr>\n",
              "<tr>\n",
              "  <th>grlivarea</th>    <td>   49.0319</td> <td>    2.914</td> <td>   16.828</td> <td> 0.000</td> <td>   43.314</td> <td>   54.750</td>\n",
              "</tr>\n",
              "<tr>\n",
              "  <th>garagecars</th>   <td>     2e+04</td> <td> 2396.654</td> <td>    8.344</td> <td> 0.000</td> <td> 1.53e+04</td> <td> 2.47e+04</td>\n",
              "</tr>\n",
              "<tr>\n",
              "  <th>totalbsmtsf</th>  <td>   23.0133</td> <td>    3.579</td> <td>    6.430</td> <td> 0.000</td> <td>   15.990</td> <td>   30.037</td>\n",
              "</tr>\n",
              "<tr>\n",
              "  <th>exterqual_Ex</th> <td> 4.231e+04</td> <td> 7378.585</td> <td>    5.734</td> <td> 0.000</td> <td> 2.78e+04</td> <td> 5.68e+04</td>\n",
              "</tr>\n",
              "<tr>\n",
              "  <th>exterqual_Fa</th> <td>-4.092e+04</td> <td> 1.22e+04</td> <td>   -3.352</td> <td> 0.001</td> <td>-6.49e+04</td> <td> -1.7e+04</td>\n",
              "</tr>\n",
              "<tr>\n",
              "  <th>exterqual_Gd</th> <td>  -1.4e+04</td> <td> 4405.456</td> <td>   -3.177</td> <td> 0.002</td> <td>-2.26e+04</td> <td>-5349.819</td>\n",
              "</tr>\n",
              "<tr>\n",
              "  <th>exterqual_TA</th> <td>-2.653e+04</td> <td> 3859.324</td> <td>   -6.873</td> <td> 0.000</td> <td>-3.41e+04</td> <td> -1.9e+04</td>\n",
              "</tr>\n",
              "<tr>\n",
              "  <th>centralair_N</th> <td>-3.176e+04</td> <td> 3991.809</td> <td>   -7.956</td> <td> 0.000</td> <td>-3.96e+04</td> <td>-2.39e+04</td>\n",
              "</tr>\n",
              "<tr>\n",
              "  <th>centralair_Y</th> <td>-7374.2643</td> <td> 3823.889</td> <td>   -1.928</td> <td> 0.054</td> <td>-1.49e+04</td> <td>  129.698</td>\n",
              "</tr>\n",
              "</table>\n",
              "<table class=\"simpletable\">\n",
              "<tr>\n",
              "  <th>Omnibus:</th>       <td>435.273</td> <th>  Durbin-Watson:     </th> <td>   2.078</td> \n",
              "</tr>\n",
              "<tr>\n",
              "  <th>Prob(Omnibus):</th> <td> 0.000</td>  <th>  Jarque-Bera (JB):  </th> <td>50420.563</td>\n",
              "</tr>\n",
              "<tr>\n",
              "  <th>Skew:</th>          <td>-0.999</td>  <th>  Prob(JB):          </th> <td>    0.00</td> \n",
              "</tr>\n",
              "<tr>\n",
              "  <th>Kurtosis:</th>      <td>37.940</td>  <th>  Cond. No.          </th> <td>3.09e+19</td> \n",
              "</tr>\n",
              "</table><br/><br/>Warnings:<br/>[1] Standard Errors assume that the covariance matrix of the errors is correctly specified.<br/>[2] The smallest eigenvalue is 4.01e-30. This might indicate that there are<br/>strong multicollinearity problems or that the design matrix is singular."
            ],
            "text/plain": [
              "<class 'statsmodels.iolib.summary.Summary'>\n",
              "\"\"\"\n",
              "                            OLS Regression Results                            \n",
              "==============================================================================\n",
              "Dep. Variable:              saleprice   R-squared:                       0.778\n",
              "Model:                            OLS   Adj. R-squared:                  0.776\n",
              "Method:                 Least Squares   F-statistic:                     428.4\n",
              "Date:                Tue, 05 Nov 2019   Prob (F-statistic):          1.49e-313\n",
              "Time:                        22:13:10   Log-Likelihood:                -11786.\n",
              "No. Observations:                 988   AIC:                         2.359e+04\n",
              "Df Residuals:                     979   BIC:                         2.363e+04\n",
              "Df Model:                           8                                         \n",
              "Covariance Type:            nonrobust                                         \n",
              "================================================================================\n",
              "                   coef    std err          t      P>|t|      [0.025      0.975]\n",
              "--------------------------------------------------------------------------------\n",
              "const        -3.913e+04   5406.245     -7.239      0.000   -4.97e+04   -2.85e+04\n",
              "overallqual   1.858e+04   1492.337     12.448      0.000    1.56e+04    2.15e+04\n",
              "grlivarea       49.0319      2.914     16.828      0.000      43.314      54.750\n",
              "garagecars        2e+04   2396.654      8.344      0.000    1.53e+04    2.47e+04\n",
              "totalbsmtsf     23.0133      3.579      6.430      0.000      15.990      30.037\n",
              "exterqual_Ex  4.231e+04   7378.585      5.734      0.000    2.78e+04    5.68e+04\n",
              "exterqual_Fa -4.092e+04   1.22e+04     -3.352      0.001   -6.49e+04    -1.7e+04\n",
              "exterqual_Gd   -1.4e+04   4405.456     -3.177      0.002   -2.26e+04   -5349.819\n",
              "exterqual_TA -2.653e+04   3859.324     -6.873      0.000   -3.41e+04    -1.9e+04\n",
              "centralair_N -3.176e+04   3991.809     -7.956      0.000   -3.96e+04   -2.39e+04\n",
              "centralair_Y -7374.2643   3823.889     -1.928      0.054   -1.49e+04     129.698\n",
              "==============================================================================\n",
              "Omnibus:                      435.273   Durbin-Watson:                   2.078\n",
              "Prob(Omnibus):                  0.000   Jarque-Bera (JB):            50420.563\n",
              "Skew:                          -0.999   Prob(JB):                         0.00\n",
              "Kurtosis:                      37.940   Cond. No.                     3.09e+19\n",
              "==============================================================================\n",
              "\n",
              "Warnings:\n",
              "[1] Standard Errors assume that the covariance matrix of the errors is correctly specified.\n",
              "[2] The smallest eigenvalue is 4.01e-30. This might indicate that there are\n",
              "strong multicollinearity problems or that the design matrix is singular.\n",
              "\"\"\""
            ]
          },
          "metadata": {
            "tags": []
          },
          "execution_count": 75
        }
      ]
    },
    {
      "cell_type": "code",
      "metadata": {
        "id": "3Ys453s3lzeC",
        "colab_type": "code",
        "colab": {
          "base_uri": "https://localhost:8080/",
          "height": 72
        },
        "outputId": "4d79618c-68b8-45de-e045-37270597a918"
      },
      "source": [
        "X_test4 = sm.add_constant(X_test4)\n",
        "\n",
        "# We are making predictions here\n",
        "y_preds4 = results4.predict(X_test4)"
      ],
      "execution_count": 76,
      "outputs": [
        {
          "output_type": "stream",
          "text": [
            "/usr/local/lib/python3.6/dist-packages/numpy/core/fromnumeric.py:2495: FutureWarning: Method .ptp is deprecated and will be removed in a future version. Use numpy.ptp instead.\n",
            "  return ptp(axis=axis, out=out, **kwargs)\n"
          ],
          "name": "stderr"
        }
      ]
    },
    {
      "cell_type": "code",
      "metadata": {
        "id": "QJbLxCHhlzgT",
        "colab_type": "code",
        "colab": {
          "base_uri": "https://localhost:8080/",
          "height": 391
        },
        "outputId": "556cb95a-876d-428d-db7c-df1cb05e6be2"
      },
      "source": [
        "from sklearn.metrics import mean_absolute_error\n",
        "from statsmodels.tools.eval_measures import mse, rmse\n",
        "plt.scatter(y_test4, y_preds4)\n",
        "plt.plot(y_test4, y_test4, color=\"red\")\n",
        "plt.xlabel(\"true values\")\n",
        "plt.ylabel(\"predicted values\")\n",
        "plt.title(\"Charges: true and predicted values\")\n",
        "plt.show()\n",
        "\n",
        "print(\"Mean absolute error of the prediction is: {}\".format(mean_absolute_error(y_test3, y_preds3)))\n",
        "print(\"Mean squared error of the prediction is: {}\".format(mse(y_test3, y_preds3)))\n",
        "print(\"Root mean squared error of the prediction is: {}\".format(rmse(y_test3, y_preds3)))\n",
        "print(\"Mean absolute percentage error of the prediction is: {}\".format(np.mean(np.abs((y_test3 - y_preds3) / y_test3)) * 100))"
      ],
      "execution_count": 78,
      "outputs": [
        {
          "output_type": "display_data",
          "data": {
            "image/png": "[encoded data removed]",
            "text/plain": [
              "<Figure size 432x288 with 1 Axes>"
            ]
          },
          "metadata": {
            "tags": []
          }
        },
        {
          "output_type": "stream",
          "text": [
            "Mean absolute error of the prediction is: 24215.92640811957\n",
            "Mean squared error of the prediction is: 1394311933.628577\n",
            "Root mean squared error of the prediction is: 37340.48652104813\n",
            "Mean absolute percentage error of the prediction is: 13.134976426210601\n"
          ],
          "name": "stdout"
        }
      ]
    },
    {
      "cell_type": "markdown",
      "metadata": {
        "id": "LYlJXYzboZXZ",
        "colab_type": "text"
      },
      "source": [
        "This produced slightly better results. "
      ]
    },
    {
      "cell_type": "code",
      "metadata": {
        "id": "7vLXoFX7oa0o",
        "colab_type": "code",
        "colab": {}
      },
      "source": [
        ""
      ],
      "execution_count": 0,
      "outputs": []
    }
  ]
}